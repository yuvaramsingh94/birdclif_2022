{
 "cells": [
  {
   "cell_type": "code",
   "execution_count": 1,
   "id": "fb424a04",
   "metadata": {},
   "outputs": [
    {
     "name": "stderr",
     "output_type": "stream",
     "text": [
      "/opt/conda/lib/python3.8/site-packages/tqdm/auto.py:22: TqdmWarning: IProgress not found. Please update jupyter and ipywidgets. See https://ipywidgets.readthedocs.io/en/stable/user_install.html\n",
      "  from .autonotebook import tqdm as notebook_tqdm\n"
     ]
    }
   ],
   "source": [
    "import torch\n",
    "import torchaudio\n",
    "import os\n",
    "import pandas as pd\n",
    "from tqdm import tqdm"
   ]
  },
  {
   "cell_type": "code",
   "execution_count": 2,
   "id": "3c4edcb5",
   "metadata": {},
   "outputs": [],
   "source": [
    "waveform, sample_rate = torchaudio.load('../data/ff1010bird/audio/wav/156147.wav')"
   ]
  },
  {
   "cell_type": "code",
   "execution_count": 4,
   "id": "e5f94457",
   "metadata": {},
   "outputs": [
    {
     "data": {
      "text/plain": [
       "torch.Size([1, 441000])"
      ]
     },
     "execution_count": 4,
     "metadata": {},
     "output_type": "execute_result"
    }
   ],
   "source": [
    "waveform.shape"
   ]
  },
  {
   "cell_type": "code",
   "execution_count": 2,
   "id": "eefc61c0",
   "metadata": {},
   "outputs": [
    {
     "data": {
      "text/plain": [
       "'soundfile'"
      ]
     },
     "execution_count": 2,
     "metadata": {},
     "output_type": "execute_result"
    }
   ],
   "source": [
    "## install backend audio\n",
    "## https://stackoverflow.com/questions/62543843/cannot-import-torch-audio-no-audio-backend-is-available\n",
    "\n",
    "str(torchaudio.get_audio_backend())"
   ]
  },
  {
   "cell_type": "code",
   "execution_count": 1,
   "id": "61886293",
   "metadata": {},
   "outputs": [],
   "source": [
    "## lets check if the opensource audio of bird and no bird are of same sample rate"
   ]
  },
  {
   "cell_type": "code",
   "execution_count": null,
   "id": "ab19a3ba",
   "metadata": {},
   "outputs": [],
   "source": [
    "## check warblrb10k_public"
   ]
  },
  {
   "cell_type": "code",
   "execution_count": 5,
   "id": "41f9cb30",
   "metadata": {},
   "outputs": [
    {
     "data": {
      "text/html": [
       "<div>\n",
       "<style scoped>\n",
       "    .dataframe tbody tr th:only-of-type {\n",
       "        vertical-align: middle;\n",
       "    }\n",
       "\n",
       "    .dataframe tbody tr th {\n",
       "        vertical-align: top;\n",
       "    }\n",
       "\n",
       "    .dataframe thead th {\n",
       "        text-align: right;\n",
       "    }\n",
       "</style>\n",
       "<table border=\"1\" class=\"dataframe\">\n",
       "  <thead>\n",
       "    <tr style=\"text-align: right;\">\n",
       "      <th></th>\n",
       "      <th>itemid</th>\n",
       "      <th>datasetid</th>\n",
       "      <th>hasbird</th>\n",
       "    </tr>\n",
       "  </thead>\n",
       "  <tbody>\n",
       "    <tr>\n",
       "      <th>0</th>\n",
       "      <td>759808e5-f824-401e-9058</td>\n",
       "      <td>warblrb10k</td>\n",
       "      <td>1</td>\n",
       "    </tr>\n",
       "    <tr>\n",
       "      <th>1</th>\n",
       "      <td>1d94fc4a-1c63-4da0-9cac</td>\n",
       "      <td>warblrb10k</td>\n",
       "      <td>1</td>\n",
       "    </tr>\n",
       "    <tr>\n",
       "      <th>2</th>\n",
       "      <td>bb0099ce-3073-4613-8557</td>\n",
       "      <td>warblrb10k</td>\n",
       "      <td>1</td>\n",
       "    </tr>\n",
       "    <tr>\n",
       "      <th>3</th>\n",
       "      <td>c4c67e81-9aa8-4af4-8eb7</td>\n",
       "      <td>warblrb10k</td>\n",
       "      <td>1</td>\n",
       "    </tr>\n",
       "    <tr>\n",
       "      <th>4</th>\n",
       "      <td>ab322d4b-da69-4b06-a065</td>\n",
       "      <td>warblrb10k</td>\n",
       "      <td>0</td>\n",
       "    </tr>\n",
       "  </tbody>\n",
       "</table>\n",
       "</div>"
      ],
      "text/plain": [
       "                    itemid   datasetid  hasbird\n",
       "0  759808e5-f824-401e-9058  warblrb10k        1\n",
       "1  1d94fc4a-1c63-4da0-9cac  warblrb10k        1\n",
       "2  bb0099ce-3073-4613-8557  warblrb10k        1\n",
       "3  c4c67e81-9aa8-4af4-8eb7  warblrb10k        1\n",
       "4  ab322d4b-da69-4b06-a065  warblrb10k        0"
      ]
     },
     "execution_count": 5,
     "metadata": {},
     "output_type": "execute_result"
    }
   ],
   "source": [
    "train_df = pd.read_csv('../data/warblrb10k_public/warblrb10k_public_metadata_2018.csv')\n",
    "train_df.head()"
   ]
  },
  {
   "cell_type": "code",
   "execution_count": 6,
   "id": "17896366",
   "metadata": {},
   "outputs": [],
   "source": [
    "audio_file = [i for i in os.listdir('../data/warblrb10k_public/audio/wav') if 'ipynb' not in i ]\n"
   ]
  },
  {
   "cell_type": "code",
   "execution_count": 8,
   "id": "64e3083c",
   "metadata": {},
   "outputs": [
    {
     "data": {
      "text/plain": [
       "['000e088a-69f7-4d7a-ba7b.wav',\n",
       " '0011e7f9-ec1e-4f3a-a70f.wav',\n",
       " '001277e4-24c2-4b8e-a6a8.wav']"
      ]
     },
     "execution_count": 8,
     "metadata": {},
     "output_type": "execute_result"
    }
   ],
   "source": [
    "audio_file[:3]"
   ]
  },
  {
   "cell_type": "code",
   "execution_count": 14,
   "id": "47815912",
   "metadata": {},
   "outputs": [
    {
     "name": "stderr",
     "output_type": "stream",
     "text": [
      "100%|██████████████████████████████████████████████████████████████████████████████| 8000/8000 [08:15<00:00, 16.14it/s]\n"
     ]
    }
   ],
   "source": [
    "sample_rate_list = []\n",
    "for i in tqdm(train_df['itemid']):\n",
    "    _, sample_rate = torchaudio.load('../data/warblrb10k_public/audio/wav/'+i+'.wav')\n",
    "    sample_rate_list.append(sample_rate)\n",
    "    \n",
    "train_df['sample_rate'] = sample_rate_list"
   ]
  },
  {
   "cell_type": "code",
   "execution_count": 15,
   "id": "448677f9",
   "metadata": {},
   "outputs": [
    {
     "data": {
      "text/plain": [
       "44100    8000\n",
       "Name: sample_rate, dtype: int64"
      ]
     },
     "execution_count": 15,
     "metadata": {},
     "output_type": "execute_result"
    }
   ],
   "source": [
    "train_df['sample_rate'].value_counts()"
   ]
  },
  {
   "cell_type": "code",
   "execution_count": null,
   "id": "194cb2d6",
   "metadata": {},
   "outputs": [],
   "source": []
  },
  {
   "cell_type": "code",
   "execution_count": 16,
   "id": "1a67fb3f",
   "metadata": {},
   "outputs": [
    {
     "data": {
      "text/html": [
       "<div>\n",
       "<style scoped>\n",
       "    .dataframe tbody tr th:only-of-type {\n",
       "        vertical-align: middle;\n",
       "    }\n",
       "\n",
       "    .dataframe tbody tr th {\n",
       "        vertical-align: top;\n",
       "    }\n",
       "\n",
       "    .dataframe thead th {\n",
       "        text-align: right;\n",
       "    }\n",
       "</style>\n",
       "<table border=\"1\" class=\"dataframe\">\n",
       "  <thead>\n",
       "    <tr style=\"text-align: right;\">\n",
       "      <th></th>\n",
       "      <th>itemid</th>\n",
       "      <th>datasetid</th>\n",
       "      <th>hasbird</th>\n",
       "    </tr>\n",
       "  </thead>\n",
       "  <tbody>\n",
       "    <tr>\n",
       "      <th>0</th>\n",
       "      <td>64486</td>\n",
       "      <td>ff1010bird</td>\n",
       "      <td>0</td>\n",
       "    </tr>\n",
       "    <tr>\n",
       "      <th>1</th>\n",
       "      <td>2525</td>\n",
       "      <td>ff1010bird</td>\n",
       "      <td>0</td>\n",
       "    </tr>\n",
       "    <tr>\n",
       "      <th>2</th>\n",
       "      <td>44981</td>\n",
       "      <td>ff1010bird</td>\n",
       "      <td>0</td>\n",
       "    </tr>\n",
       "    <tr>\n",
       "      <th>3</th>\n",
       "      <td>101323</td>\n",
       "      <td>ff1010bird</td>\n",
       "      <td>0</td>\n",
       "    </tr>\n",
       "    <tr>\n",
       "      <th>4</th>\n",
       "      <td>165746</td>\n",
       "      <td>ff1010bird</td>\n",
       "      <td>0</td>\n",
       "    </tr>\n",
       "  </tbody>\n",
       "</table>\n",
       "</div>"
      ],
      "text/plain": [
       "   itemid   datasetid  hasbird\n",
       "0   64486  ff1010bird        0\n",
       "1    2525  ff1010bird        0\n",
       "2   44981  ff1010bird        0\n",
       "3  101323  ff1010bird        0\n",
       "4  165746  ff1010bird        0"
      ]
     },
     "execution_count": 16,
     "metadata": {},
     "output_type": "execute_result"
    }
   ],
   "source": [
    "train_df = pd.read_csv('../data/ff1010bird/ff1010bird_metadata_2018.csv')\n",
    "train_df.head()"
   ]
  },
  {
   "cell_type": "code",
   "execution_count": 18,
   "id": "0537165b",
   "metadata": {},
   "outputs": [
    {
     "name": "stderr",
     "output_type": "stream",
     "text": [
      "100%|██████████████████████████████████████████████████████████████████████████████| 7690/7690 [06:01<00:00, 21.30it/s]\n"
     ]
    }
   ],
   "source": [
    "sample_rate_list = []\n",
    "for i in tqdm(train_df['itemid']):\n",
    "    _, sample_rate = torchaudio.load('../data/ff1010bird/audio/wav/'+str(i)+'.wav')\n",
    "    sample_rate_list.append(sample_rate)\n",
    "    \n",
    "train_df['sample_rate'] = sample_rate_list"
   ]
  },
  {
   "cell_type": "code",
   "execution_count": null,
   "id": "d87434cf",
   "metadata": {},
   "outputs": [],
   "source": []
  },
  {
   "cell_type": "code",
   "execution_count": 19,
   "id": "4c1b07fe",
   "metadata": {},
   "outputs": [
    {
     "data": {
      "text/plain": [
       "44100    7690\n",
       "Name: sample_rate, dtype: int64"
      ]
     },
     "execution_count": 19,
     "metadata": {},
     "output_type": "execute_result"
    }
   ],
   "source": [
    "train_df['sample_rate'].value_counts()"
   ]
  },
  {
   "cell_type": "code",
   "execution_count": null,
   "id": "804a45a4",
   "metadata": {},
   "outputs": [],
   "source": [
    "## Both are using 44100 sample rate"
   ]
  },
  {
   "cell_type": "code",
   "execution_count": 20,
   "id": "acb77cc7",
   "metadata": {},
   "outputs": [],
   "source": [
    "waveform, sample_rate = torchaudio.load('../data/ff1010bird/audio/wav/'+str(i)+'.wav')"
   ]
  },
  {
   "cell_type": "code",
   "execution_count": 22,
   "id": "f315e904",
   "metadata": {},
   "outputs": [
    {
     "name": "stdout",
     "output_type": "stream",
     "text": [
      "one second 44100.0\n"
     ]
    }
   ],
   "source": [
    "print('one second', waveform.shape[1]/10)"
   ]
  },
  {
   "cell_type": "code",
   "execution_count": null,
   "id": "d4574619",
   "metadata": {},
   "outputs": [],
   "source": [
    "waveform"
   ]
  },
  {
   "cell_type": "markdown",
   "id": "01bed900",
   "metadata": {},
   "source": [
    "## Melspec diplay"
   ]
  },
  {
   "cell_type": "code",
   "execution_count": 32,
   "id": "dd7fa734",
   "metadata": {},
   "outputs": [],
   "source": [
    "import torchaudio\n",
    "import torchaudio.transforms as T\n",
    "import matplotlib.pyplot as plt\n",
    "import librosa\n",
    "import torch"
   ]
  },
  {
   "cell_type": "code",
   "execution_count": 33,
   "id": "557fc758",
   "metadata": {},
   "outputs": [],
   "source": [
    "waveform, sample_rate = torchaudio.load('../data/ff1010bird/audio/wav/1932.wav')"
   ]
  },
  {
   "cell_type": "code",
   "execution_count": 34,
   "id": "f3e54e5b",
   "metadata": {},
   "outputs": [
    {
     "data": {
      "text/plain": [
       "torch.Size([1, 441000])"
      ]
     },
     "execution_count": 34,
     "metadata": {},
     "output_type": "execute_result"
    }
   ],
   "source": [
    "waveform.shape"
   ]
  },
  {
   "cell_type": "code",
   "execution_count": 35,
   "id": "42707a6f",
   "metadata": {},
   "outputs": [],
   "source": [
    "def plot_spectrogram(spec, title=None, ylabel=\"freq_bin\", aspect=\"auto\", xmax=None):\n",
    "    fig, axs = plt.subplots(1, 1)\n",
    "    axs.set_title(title or \"Spectrogram (db)\")\n",
    "    axs.set_ylabel(ylabel)\n",
    "    axs.set_xlabel(\"frame\")\n",
    "    im = axs.imshow(T.AmplitudeToDB()(spec), origin=\"lower\", aspect=aspect)\n",
    "    if xmax:\n",
    "        axs.set_xlim((0, xmax))\n",
    "    fig.colorbar(im, ax=axs)\n",
    "    plt.show(block=False)"
   ]
  },
  {
   "cell_type": "code",
   "execution_count": 36,
   "id": "112427de",
   "metadata": {},
   "outputs": [
    {
     "data": {
      "image/png": "[encoded data removed]",
      "text/plain": [
       "<Figure size 432x288 with 2 Axes>"
      ]
     },
     "metadata": {
      "needs_background": "light"
     },
     "output_type": "display_data"
    }
   ],
   "source": [
    "n_fft = 1024\n",
    "win_length = None\n",
    "hop_length = 512\n",
    "n_mels = 128\n",
    "\n",
    "mel_spectrogram = T.MelSpectrogram(\n",
    "    sample_rate=sample_rate,\n",
    "    n_fft=n_fft,\n",
    "    win_length=win_length,\n",
    "    hop_length=hop_length,\n",
    "    center=True,\n",
    "    pad_mode=\"reflect\",\n",
    "    power=2.0,\n",
    "    norm=\"slaney\",\n",
    "    onesided=True,\n",
    "    n_mels=n_mels,\n",
    "    mel_scale=\"htk\",\n",
    ")\n",
    "\n",
    "melspec = mel_spectrogram(waveform)\n",
    "plot_spectrogram(melspec[0], title=\"MelSpectrogram - torchaudio\", ylabel=\"mel freq\")"
   ]
  },
  {
   "cell_type": "code",
   "execution_count": 20,
   "id": "3c0a2bea",
   "metadata": {},
   "outputs": [],
   "source": [
    "db_img = T.AmplitudeToDB()(melspec[0])"
   ]
  },
  {
   "cell_type": "code",
   "execution_count": 21,
   "id": "3479123b",
   "metadata": {},
   "outputs": [
    {
     "name": "stdout",
     "output_type": "stream",
     "text": [
      "torch.Size([128, 862])\n",
      "tensor(-100.)\n",
      "tensor(24.3734)\n"
     ]
    }
   ],
   "source": [
    "print(db_img.shape)\n",
    "print(db_img.min())\n",
    "print(db_img.max())"
   ]
  },
  {
   "cell_type": "code",
   "execution_count": 29,
   "id": "6f3cd170",
   "metadata": {},
   "outputs": [],
   "source": [
    "input_image = torch.stack([db_img,db_img,db_img],dim = -1).unsqueeze(0).permute(0,3,1,2)\n",
    "input_norm = torch.nn.BatchNorm2d(3)\n",
    "output = input_norm(input_image)"
   ]
  },
  {
   "cell_type": "code",
   "execution_count": 31,
   "id": "c950c469",
   "metadata": {},
   "outputs": [
    {
     "name": "stdout",
     "output_type": "stream",
     "text": [
      "torch.Size([1, 3, 128, 862])\n",
      "tensor(-4.0979, grad_fn=<MinBackward1>)\n",
      "tensor(2.5093, grad_fn=<MaxBackward1>)\n"
     ]
    }
   ],
   "source": [
    "print(output.shape)\n",
    "print(output.min())\n",
    "print(output.max())"
   ]
  }
 ],
 "metadata": {
  "kernelspec": {
   "display_name": "Python 3 (ipykernel)",
   "language": "python",
   "name": "python3"
  },
  "language_info": {
   "codemirror_mode": {
    "name": "ipython",
    "version": 3
   },
   "file_extension": ".py",
   "mimetype": "text/x-python",
   "name": "python",
   "nbconvert_exporter": "python",
   "pygments_lexer": "ipython3",
   "version": "3.8.12"
  }
 },
 "nbformat": 4,
 "nbformat_minor": 5
}
