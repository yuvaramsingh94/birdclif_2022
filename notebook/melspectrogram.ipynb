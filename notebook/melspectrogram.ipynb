{
 "cells": [
  {
   "cell_type": "code",
   "execution_count": 1,
   "id": "90a1bc98",
   "metadata": {},
   "outputs": [
    {
     "name": "stderr",
     "output_type": "stream",
     "text": [
      "/opt/conda/lib/python3.8/site-packages/tqdm/auto.py:22: TqdmWarning: IProgress not found. Please update jupyter and ipywidgets. See https://ipywidgets.readthedocs.io/en/stable/user_install.html\n",
      "  from .autonotebook import tqdm as notebook_tqdm\n"
     ]
    }
   ],
   "source": [
    "import torch\n",
    "import torchaudio\n",
    "import os\n",
    "import pandas as pd\n",
    "from tqdm import tqdm"
   ]
  },
  {
   "cell_type": "code",
   "execution_count": 2,
   "id": "3a675b7c",
   "metadata": {},
   "outputs": [],
   "source": [
    "waveform, sample_rate = torchaudio.load('../data/ff1010bird/audio/wav/156147.wav')"
   ]
  },
  {
   "cell_type": "code",
   "execution_count": 4,
   "id": "6bc1da09",
   "metadata": {},
   "outputs": [
    {
     "data": {
      "text/plain": [
       "torch.Size([1, 441000])"
      ]
     },
     "execution_count": 4,
     "metadata": {},
     "output_type": "execute_result"
    }
   ],
   "source": [
    "waveform.shape"
   ]
  },
  {
   "cell_type": "code",
   "execution_count": 2,
   "id": "1832b6a1",
   "metadata": {},
   "outputs": [
    {
     "data": {
      "text/plain": [
       "'soundfile'"
      ]
     },
     "execution_count": 2,
     "metadata": {},
     "output_type": "execute_result"
    }
   ],
   "source": [
    "## install backend audio\n",
    "## https://stackoverflow.com/questions/62543843/cannot-import-torch-audio-no-audio-backend-is-available\n",
    "\n",
    "str(torchaudio.get_audio_backend())"
   ]
  },
  {
   "cell_type": "code",
   "execution_count": 1,
   "id": "80a3cdce",
   "metadata": {},
   "outputs": [],
   "source": [
    "## lets check if the opensource audio of bird and no bird are of same sample rate"
   ]
  },
  {
   "cell_type": "code",
   "execution_count": null,
   "id": "17b2f9a0",
   "metadata": {},
   "outputs": [],
   "source": [
    "## check warblrb10k_public"
   ]
  },
  {
   "cell_type": "code",
   "execution_count": 5,
   "id": "8e2b47da",
   "metadata": {},
   "outputs": [
    {
     "data": {
      "text/html": [
       "<div>\n",
       "<style scoped>\n",
       "    .dataframe tbody tr th:only-of-type {\n",
       "        vertical-align: middle;\n",
       "    }\n",
       "\n",
       "    .dataframe tbody tr th {\n",
       "        vertical-align: top;\n",
       "    }\n",
       "\n",
       "    .dataframe thead th {\n",
       "        text-align: right;\n",
       "    }\n",
       "</style>\n",
       "<table border=\"1\" class=\"dataframe\">\n",
       "  <thead>\n",
       "    <tr style=\"text-align: right;\">\n",
       "      <th></th>\n",
       "      <th>itemid</th>\n",
       "      <th>datasetid</th>\n",
       "      <th>hasbird</th>\n",
       "    </tr>\n",
       "  </thead>\n",
       "  <tbody>\n",
       "    <tr>\n",
       "      <th>0</th>\n",
       "      <td>759808e5-f824-401e-9058</td>\n",
       "      <td>warblrb10k</td>\n",
       "      <td>1</td>\n",
       "    </tr>\n",
       "    <tr>\n",
       "      <th>1</th>\n",
       "      <td>1d94fc4a-1c63-4da0-9cac</td>\n",
       "      <td>warblrb10k</td>\n",
       "      <td>1</td>\n",
       "    </tr>\n",
       "    <tr>\n",
       "      <th>2</th>\n",
       "      <td>bb0099ce-3073-4613-8557</td>\n",
       "      <td>warblrb10k</td>\n",
       "      <td>1</td>\n",
       "    </tr>\n",
       "    <tr>\n",
       "      <th>3</th>\n",
       "      <td>c4c67e81-9aa8-4af4-8eb7</td>\n",
       "      <td>warblrb10k</td>\n",
       "      <td>1</td>\n",
       "    </tr>\n",
       "    <tr>\n",
       "      <th>4</th>\n",
       "      <td>ab322d4b-da69-4b06-a065</td>\n",
       "      <td>warblrb10k</td>\n",
       "      <td>0</td>\n",
       "    </tr>\n",
       "  </tbody>\n",
       "</table>\n",
       "</div>"
      ],
      "text/plain": [
       "                    itemid   datasetid  hasbird\n",
       "0  759808e5-f824-401e-9058  warblrb10k        1\n",
       "1  1d94fc4a-1c63-4da0-9cac  warblrb10k        1\n",
       "2  bb0099ce-3073-4613-8557  warblrb10k        1\n",
       "3  c4c67e81-9aa8-4af4-8eb7  warblrb10k        1\n",
       "4  ab322d4b-da69-4b06-a065  warblrb10k        0"
      ]
     },
     "execution_count": 5,
     "metadata": {},
     "output_type": "execute_result"
    }
   ],
   "source": [
    "train_df = pd.read_csv('../data/warblrb10k_public/warblrb10k_public_metadata_2018.csv')\n",
    "train_df.head()"
   ]
  },
  {
   "cell_type": "code",
   "execution_count": 6,
   "id": "887da6ba",
   "metadata": {},
   "outputs": [],
   "source": [
    "audio_file = [i for i in os.listdir('../data/warblrb10k_public/audio/wav') if 'ipynb' not in i ]\n"
   ]
  },
  {
   "cell_type": "code",
   "execution_count": 8,
   "id": "66851d17",
   "metadata": {},
   "outputs": [
    {
     "data": {
      "text/plain": [
       "['000e088a-69f7-4d7a-ba7b.wav',\n",
       " '0011e7f9-ec1e-4f3a-a70f.wav',\n",
       " '001277e4-24c2-4b8e-a6a8.wav']"
      ]
     },
     "execution_count": 8,
     "metadata": {},
     "output_type": "execute_result"
    }
   ],
   "source": [
    "audio_file[:3]"
   ]
  },
  {
   "cell_type": "code",
   "execution_count": 14,
   "id": "c1c2eaa6",
   "metadata": {},
   "outputs": [
    {
     "name": "stderr",
     "output_type": "stream",
     "text": [
      "100%|██████████████████████████████████████████████████████████████████████████████| 8000/8000 [08:15<00:00, 16.14it/s]\n"
     ]
    }
   ],
   "source": [
    "sample_rate_list = []\n",
    "for i in tqdm(train_df['itemid']):\n",
    "    _, sample_rate = torchaudio.load('../data/warblrb10k_public/audio/wav/'+i+'.wav')\n",
    "    sample_rate_list.append(sample_rate)\n",
    "    \n",
    "train_df['sample_rate'] = sample_rate_list"
   ]
  },
  {
   "cell_type": "code",
   "execution_count": 15,
   "id": "a1de157e",
   "metadata": {},
   "outputs": [
    {
     "data": {
      "text/plain": [
       "44100    8000\n",
       "Name: sample_rate, dtype: int64"
      ]
     },
     "execution_count": 15,
     "metadata": {},
     "output_type": "execute_result"
    }
   ],
   "source": [
    "train_df['sample_rate'].value_counts()"
   ]
  },
  {
   "cell_type": "code",
   "execution_count": null,
   "id": "42b6f83b",
   "metadata": {},
   "outputs": [],
   "source": []
  },
  {
   "cell_type": "code",
   "execution_count": 16,
   "id": "98e85877",
   "metadata": {},
   "outputs": [
    {
     "data": {
      "text/html": [
       "<div>\n",
       "<style scoped>\n",
       "    .dataframe tbody tr th:only-of-type {\n",
       "        vertical-align: middle;\n",
       "    }\n",
       "\n",
       "    .dataframe tbody tr th {\n",
       "        vertical-align: top;\n",
       "    }\n",
       "\n",
       "    .dataframe thead th {\n",
       "        text-align: right;\n",
       "    }\n",
       "</style>\n",
       "<table border=\"1\" class=\"dataframe\">\n",
       "  <thead>\n",
       "    <tr style=\"text-align: right;\">\n",
       "      <th></th>\n",
       "      <th>itemid</th>\n",
       "      <th>datasetid</th>\n",
       "      <th>hasbird</th>\n",
       "    </tr>\n",
       "  </thead>\n",
       "  <tbody>\n",
       "    <tr>\n",
       "      <th>0</th>\n",
       "      <td>64486</td>\n",
       "      <td>ff1010bird</td>\n",
       "      <td>0</td>\n",
       "    </tr>\n",
       "    <tr>\n",
       "      <th>1</th>\n",
       "      <td>2525</td>\n",
       "      <td>ff1010bird</td>\n",
       "      <td>0</td>\n",
       "    </tr>\n",
       "    <tr>\n",
       "      <th>2</th>\n",
       "      <td>44981</td>\n",
       "      <td>ff1010bird</td>\n",
       "      <td>0</td>\n",
       "    </tr>\n",
       "    <tr>\n",
       "      <th>3</th>\n",
       "      <td>101323</td>\n",
       "      <td>ff1010bird</td>\n",
       "      <td>0</td>\n",
       "    </tr>\n",
       "    <tr>\n",
       "      <th>4</th>\n",
       "      <td>165746</td>\n",
       "      <td>ff1010bird</td>\n",
       "      <td>0</td>\n",
       "    </tr>\n",
       "  </tbody>\n",
       "</table>\n",
       "</div>"
      ],
      "text/plain": [
       "   itemid   datasetid  hasbird\n",
       "0   64486  ff1010bird        0\n",
       "1    2525  ff1010bird        0\n",
       "2   44981  ff1010bird        0\n",
       "3  101323  ff1010bird        0\n",
       "4  165746  ff1010bird        0"
      ]
     },
     "execution_count": 16,
     "metadata": {},
     "output_type": "execute_result"
    }
   ],
   "source": [
    "train_df = pd.read_csv('../data/ff1010bird/ff1010bird_metadata_2018.csv')\n",
    "train_df.head()"
   ]
  },
  {
   "cell_type": "code",
   "execution_count": 18,
   "id": "d5710c90",
   "metadata": {},
   "outputs": [
    {
     "name": "stderr",
     "output_type": "stream",
     "text": [
      "100%|██████████████████████████████████████████████████████████████████████████████| 7690/7690 [06:01<00:00, 21.30it/s]\n"
     ]
    }
   ],
   "source": [
    "sample_rate_list = []\n",
    "for i in tqdm(train_df['itemid']):\n",
    "    _, sample_rate = torchaudio.load('../data/ff1010bird/audio/wav/'+str(i)+'.wav')\n",
    "    sample_rate_list.append(sample_rate)\n",
    "    \n",
    "train_df['sample_rate'] = sample_rate_list"
   ]
  },
  {
   "cell_type": "code",
   "execution_count": null,
   "id": "c098e670",
   "metadata": {},
   "outputs": [],
   "source": []
  },
  {
   "cell_type": "code",
   "execution_count": 19,
   "id": "68202a25",
   "metadata": {},
   "outputs": [
    {
     "data": {
      "text/plain": [
       "44100    7690\n",
       "Name: sample_rate, dtype: int64"
      ]
     },
     "execution_count": 19,
     "metadata": {},
     "output_type": "execute_result"
    }
   ],
   "source": [
    "train_df['sample_rate'].value_counts()"
   ]
  },
  {
   "cell_type": "code",
   "execution_count": null,
   "id": "efe883c4",
   "metadata": {},
   "outputs": [],
   "source": [
    "## Both are using 44100 sample rate"
   ]
  },
  {
   "cell_type": "code",
   "execution_count": 20,
   "id": "cc124350",
   "metadata": {},
   "outputs": [],
   "source": [
    "waveform, sample_rate = torchaudio.load('../data/ff1010bird/audio/wav/'+str(i)+'.wav')"
   ]
  },
  {
   "cell_type": "code",
   "execution_count": 22,
   "id": "35770a9f",
   "metadata": {},
   "outputs": [
    {
     "name": "stdout",
     "output_type": "stream",
     "text": [
      "one second 44100.0\n"
     ]
    }
   ],
   "source": [
    "print('one second', waveform.shape[1]/10)"
   ]
  },
  {
   "cell_type": "code",
   "execution_count": null,
   "id": "61d67e32",
   "metadata": {},
   "outputs": [],
   "source": [
    "waveform"
   ]
  },
  {
   "cell_type": "code",
   "execution_count": null,
   "id": "2c00005e",
   "metadata": {},
   "outputs": [],
   "source": []
  }
 ],
 "metadata": {
  "kernelspec": {
   "display_name": "Python 3 (ipykernel)",
   "language": "python",
   "name": "python3"
  },
  "language_info": {
   "codemirror_mode": {
    "name": "ipython",
    "version": 3
   },
   "file_extension": ".py",
   "mimetype": "text/x-python",
   "name": "python",
   "nbconvert_exporter": "python",
   "pygments_lexer": "ipython3",
   "version": "3.8.12"
  }
 },
 "nbformat": 4,
 "nbformat_minor": 5
}
