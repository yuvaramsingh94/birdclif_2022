{
 "cells": [
  {
   "cell_type": "code",
   "execution_count": 4,
   "id": "6b460fe3",
   "metadata": {},
   "outputs": [],
   "source": [
    "import pandas as pd\n",
    "import numpy as np\n",
    "from sklearn.metrics import mean_squared_error"
   ]
  },
  {
   "cell_type": "code",
   "execution_count": 3,
   "id": "2cd9adc6",
   "metadata": {},
   "outputs": [
    {
     "data": {
      "text/html": [
       "<div>\n",
       "<style scoped>\n",
       "    .dataframe tbody tr th:only-of-type {\n",
       "        vertical-align: middle;\n",
       "    }\n",
       "\n",
       "    .dataframe tbody tr th {\n",
       "        vertical-align: top;\n",
       "    }\n",
       "\n",
       "    .dataframe thead th {\n",
       "        text-align: right;\n",
       "    }\n",
       "</style>\n",
       "<table border=\"1\" class=\"dataframe\">\n",
       "  <thead>\n",
       "    <tr style=\"text-align: right;\">\n",
       "      <th></th>\n",
       "      <th>itemid</th>\n",
       "      <th>hasbird</th>\n",
       "      <th>prediction</th>\n",
       "    </tr>\n",
       "  </thead>\n",
       "  <tbody>\n",
       "    <tr>\n",
       "      <th>0</th>\n",
       "      <td>20019</td>\n",
       "      <td>1</td>\n",
       "      <td>0.866411</td>\n",
       "    </tr>\n",
       "    <tr>\n",
       "      <th>1</th>\n",
       "      <td>126762</td>\n",
       "      <td>1</td>\n",
       "      <td>0.913721</td>\n",
       "    </tr>\n",
       "    <tr>\n",
       "      <th>2</th>\n",
       "      <td>169947</td>\n",
       "      <td>0</td>\n",
       "      <td>0.040477</td>\n",
       "    </tr>\n",
       "    <tr>\n",
       "      <th>3</th>\n",
       "      <td>38396</td>\n",
       "      <td>0</td>\n",
       "      <td>0.093162</td>\n",
       "    </tr>\n",
       "    <tr>\n",
       "      <th>4</th>\n",
       "      <td>157863</td>\n",
       "      <td>0</td>\n",
       "      <td>0.054438</td>\n",
       "    </tr>\n",
       "  </tbody>\n",
       "</table>\n",
       "</div>"
      ],
      "text/plain": [
       "   itemid  hasbird  prediction\n",
       "0   20019        1    0.866411\n",
       "1  126762        1    0.913721\n",
       "2  169947        0    0.040477\n",
       "3   38396        0    0.093162\n",
       "4  157863        0    0.054438"
      ]
     },
     "execution_count": 3,
     "metadata": {},
     "output_type": "execute_result"
    }
   ],
   "source": [
    "## lets see the oof\n",
    "\n",
    "oof_df = pd.read_csv(\"../prediction/binary_v3_SED/oof.csv\")\n",
    "oof_df.head()"
   ]
  },
  {
   "cell_type": "code",
   "execution_count": 5,
   "id": "62433974",
   "metadata": {},
   "outputs": [
    {
     "name": "stdout",
     "output_type": "stream",
     "text": [
      "OOF MSE 0.06402963296384684\n"
     ]
    }
   ],
   "source": [
    "## oof RMSE calculation\n",
    "print(\n",
    "    \"OOF MSE\",\n",
    "    mean_squared_error(\n",
    "        oof_df[\"hasbird\"],\n",
    "        oof_df[\"prediction\"],\n",
    "    ),\n",
    ")"
   ]
  },
  {
   "cell_type": "code",
   "execution_count": 6,
   "id": "dd262c92",
   "metadata": {},
   "outputs": [
    {
     "data": {
      "text/html": [
       "<div>\n",
       "<style scoped>\n",
       "    .dataframe tbody tr th:only-of-type {\n",
       "        vertical-align: middle;\n",
       "    }\n",
       "\n",
       "    .dataframe tbody tr th {\n",
       "        vertical-align: top;\n",
       "    }\n",
       "\n",
       "    .dataframe thead th {\n",
       "        text-align: right;\n",
       "    }\n",
       "</style>\n",
       "<table border=\"1\" class=\"dataframe\">\n",
       "  <thead>\n",
       "    <tr style=\"text-align: right;\">\n",
       "      <th></th>\n",
       "      <th>itemid</th>\n",
       "      <th>hasbird</th>\n",
       "      <th>prediction</th>\n",
       "    </tr>\n",
       "  </thead>\n",
       "  <tbody>\n",
       "    <tr>\n",
       "      <th>0</th>\n",
       "      <td>10534_SSW_sec_30</td>\n",
       "      <td>1</td>\n",
       "      <td>0.573342</td>\n",
       "    </tr>\n",
       "    <tr>\n",
       "      <th>1</th>\n",
       "      <td>10534_SSW_sec_130</td>\n",
       "      <td>1</td>\n",
       "      <td>0.467359</td>\n",
       "    </tr>\n",
       "    <tr>\n",
       "      <th>2</th>\n",
       "      <td>10534_SSW_sec_230</td>\n",
       "      <td>1</td>\n",
       "      <td>0.893014</td>\n",
       "    </tr>\n",
       "    <tr>\n",
       "      <th>3</th>\n",
       "      <td>10534_SSW_sec_330</td>\n",
       "      <td>1</td>\n",
       "      <td>0.902125</td>\n",
       "    </tr>\n",
       "    <tr>\n",
       "      <th>4</th>\n",
       "      <td>10534_SSW_sec_430</td>\n",
       "      <td>1</td>\n",
       "      <td>0.800448</td>\n",
       "    </tr>\n",
       "  </tbody>\n",
       "</table>\n",
       "</div>"
      ],
      "text/plain": [
       "              itemid  hasbird  prediction\n",
       "0   10534_SSW_sec_30        1    0.573342\n",
       "1  10534_SSW_sec_130        1    0.467359\n",
       "2  10534_SSW_sec_230        1    0.893014\n",
       "3  10534_SSW_sec_330        1    0.902125\n",
       "4  10534_SSW_sec_430        1    0.800448"
      ]
     },
     "execution_count": 6,
     "metadata": {},
     "output_type": "execute_result"
    }
   ],
   "source": [
    "## 10 sec soundscape predictions\n",
    "T10_df = pd.read_csv(\"../prediction/binary_v3_SED/train_soundscape_10_sec.csv\")\n",
    "T10_df.head()"
   ]
  },
  {
   "cell_type": "code",
   "execution_count": 14,
   "id": "d5c2ab20",
   "metadata": {},
   "outputs": [
    {
     "name": "stdout",
     "output_type": "stream",
     "text": [
      "0.05398064 0.96378314\n"
     ]
    }
   ],
   "source": [
    "print(T10_df[\"prediction\"].min(), T10_df[\"prediction\"].max())"
   ]
  },
  {
   "cell_type": "code",
   "execution_count": 7,
   "id": "bcdff541",
   "metadata": {},
   "outputs": [
    {
     "name": "stdout",
     "output_type": "stream",
     "text": [
      "T10_df MSE 0.21163000913793112\n"
     ]
    }
   ],
   "source": [
    "print(\n",
    "    \"T10_df MSE\",\n",
    "    mean_squared_error(\n",
    "        T10_df[\"hasbird\"],\n",
    "        T10_df[\"prediction\"],\n",
    "    ),\n",
    ")"
   ]
  },
  {
   "cell_type": "code",
   "execution_count": 8,
   "id": "d8c4a55c",
   "metadata": {},
   "outputs": [
    {
     "data": {
      "text/html": [
       "<div>\n",
       "<style scoped>\n",
       "    .dataframe tbody tr th:only-of-type {\n",
       "        vertical-align: middle;\n",
       "    }\n",
       "\n",
       "    .dataframe tbody tr th {\n",
       "        vertical-align: top;\n",
       "    }\n",
       "\n",
       "    .dataframe thead th {\n",
       "        text-align: right;\n",
       "    }\n",
       "</style>\n",
       "<table border=\"1\" class=\"dataframe\">\n",
       "  <thead>\n",
       "    <tr style=\"text-align: right;\">\n",
       "      <th></th>\n",
       "      <th>itemid</th>\n",
       "      <th>hasbird</th>\n",
       "      <th>prediction</th>\n",
       "    </tr>\n",
       "  </thead>\n",
       "  <tbody>\n",
       "    <tr>\n",
       "      <th>0</th>\n",
       "      <td>7019_COR_sec_5</td>\n",
       "      <td>0</td>\n",
       "      <td>0.388604</td>\n",
       "    </tr>\n",
       "    <tr>\n",
       "      <th>1</th>\n",
       "      <td>7019_COR_sec_55</td>\n",
       "      <td>0</td>\n",
       "      <td>0.280017</td>\n",
       "    </tr>\n",
       "    <tr>\n",
       "      <th>2</th>\n",
       "      <td>7019_COR_sec_105</td>\n",
       "      <td>0</td>\n",
       "      <td>0.208610</td>\n",
       "    </tr>\n",
       "    <tr>\n",
       "      <th>3</th>\n",
       "      <td>7019_COR_sec_155</td>\n",
       "      <td>0</td>\n",
       "      <td>0.274508</td>\n",
       "    </tr>\n",
       "    <tr>\n",
       "      <th>4</th>\n",
       "      <td>7019_COR_sec_205</td>\n",
       "      <td>0</td>\n",
       "      <td>0.549422</td>\n",
       "    </tr>\n",
       "  </tbody>\n",
       "</table>\n",
       "</div>"
      ],
      "text/plain": [
       "             itemid  hasbird  prediction\n",
       "0    7019_COR_sec_5        0    0.388604\n",
       "1   7019_COR_sec_55        0    0.280017\n",
       "2  7019_COR_sec_105        0    0.208610\n",
       "3  7019_COR_sec_155        0    0.274508\n",
       "4  7019_COR_sec_205        0    0.549422"
      ]
     },
     "execution_count": 8,
     "metadata": {},
     "output_type": "execute_result"
    }
   ],
   "source": [
    "## 5 sec soundscape predictions\n",
    "T5_df = pd.read_csv(\"../prediction/binary_v3_SED/train_soundscape_5_sec.csv\")\n",
    "T5_df.head()"
   ]
  },
  {
   "cell_type": "code",
   "execution_count": 9,
   "id": "7ffb9e7f",
   "metadata": {},
   "outputs": [
    {
     "name": "stdout",
     "output_type": "stream",
     "text": [
      "T5_df MSE 0.18257665906096587\n"
     ]
    }
   ],
   "source": [
    "print(\n",
    "    \"T5_df MSE\",\n",
    "    mean_squared_error(\n",
    "        T5_df[\"hasbird\"],\n",
    "        T5_df[\"prediction\"],\n",
    "    ),\n",
    ")"
   ]
  },
  {
   "cell_type": "code",
   "execution_count": 13,
   "id": "9ef6e576",
   "metadata": {},
   "outputs": [
    {
     "name": "stdout",
     "output_type": "stream",
     "text": [
      "0.13869117 0.8534163\n"
     ]
    }
   ],
   "source": [
    "print(T5_df[\"prediction\"].min(), T5_df[\"prediction\"].max())"
   ]
  },
  {
   "cell_type": "markdown",
   "id": "dadd5c27",
   "metadata": {},
   "source": [
    "## Idea\n",
    "\n",
    "can we combine both 10sec and 5sec inorder to calcuate the presence of bird "
   ]
  },
  {
   "cell_type": "code",
   "execution_count": null,
   "id": "06d4e123",
   "metadata": {},
   "outputs": [],
   "source": []
  },
  {
   "cell_type": "code",
   "execution_count": null,
   "id": "00f4fdcb",
   "metadata": {},
   "outputs": [],
   "source": []
  }
 ],
 "metadata": {
  "kernelspec": {
   "display_name": "Python 3 (ipykernel)",
   "language": "python",
   "name": "python3"
  },
  "language_info": {
   "codemirror_mode": {
    "name": "ipython",
    "version": 3
   },
   "file_extension": ".py",
   "mimetype": "text/x-python",
   "name": "python",
   "nbconvert_exporter": "python",
   "pygments_lexer": "ipython3",
   "version": "3.8.10"
  }
 },
 "nbformat": 4,
 "nbformat_minor": 5
}
