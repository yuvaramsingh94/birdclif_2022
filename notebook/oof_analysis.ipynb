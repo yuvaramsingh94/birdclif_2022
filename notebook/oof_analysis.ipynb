{
 "cells": [
  {
   "cell_type": "code",
   "execution_count": 1,
   "id": "beee08d4",
   "metadata": {},
   "outputs": [],
   "source": [
    "import pandas as pd\n",
    "import numpy as np\n",
    "import matplotlib.pyplot as plt\n",
    "import shutil, os"
   ]
  },
  {
   "cell_type": "markdown",
   "id": "dfd0c5df",
   "metadata": {},
   "source": [
    "## warblrb10k_public remapping the unique column"
   ]
  },
  {
   "cell_type": "code",
   "execution_count": 2,
   "id": "f48b4bd8",
   "metadata": {},
   "outputs": [],
   "source": [
    "war = pd.read_csv(\"../data/warblrb10k_public/warblrb10k_clean.csv\")\n",
    "# war = war.rename({'itemid': 'itemid_old'}, axis=1)  # new method"
   ]
  },
  {
   "cell_type": "code",
   "execution_count": 3,
   "id": "09646db8",
   "metadata": {},
   "outputs": [
    {
     "name": "stdout",
     "output_type": "stream",
     "text": [
      "(7591, 6)\n"
     ]
    },
    {
     "data": {
      "text/html": [
       "<div>\n",
       "<style scoped>\n",
       "    .dataframe tbody tr th:only-of-type {\n",
       "        vertical-align: middle;\n",
       "    }\n",
       "\n",
       "    .dataframe tbody tr th {\n",
       "        vertical-align: top;\n",
       "    }\n",
       "\n",
       "    .dataframe thead th {\n",
       "        text-align: right;\n",
       "    }\n",
       "</style>\n",
       "<table border=\"1\" class=\"dataframe\">\n",
       "  <thead>\n",
       "    <tr style=\"text-align: right;\">\n",
       "      <th></th>\n",
       "      <th>itemid_old</th>\n",
       "      <th>datasetid</th>\n",
       "      <th>hasbird</th>\n",
       "      <th>fold</th>\n",
       "      <th>itemid_old.1</th>\n",
       "      <th>itemid</th>\n",
       "    </tr>\n",
       "  </thead>\n",
       "  <tbody>\n",
       "    <tr>\n",
       "      <th>0</th>\n",
       "      <td>759808e5-f824-401e-9058</td>\n",
       "      <td>warblrb10k</td>\n",
       "      <td>1</td>\n",
       "      <td>1</td>\n",
       "      <td>war_0</td>\n",
       "      <td>00000_war</td>\n",
       "    </tr>\n",
       "    <tr>\n",
       "      <th>1</th>\n",
       "      <td>1d94fc4a-1c63-4da0-9cac</td>\n",
       "      <td>warblrb10k</td>\n",
       "      <td>1</td>\n",
       "      <td>0</td>\n",
       "      <td>war_1</td>\n",
       "      <td>00001_war</td>\n",
       "    </tr>\n",
       "    <tr>\n",
       "      <th>2</th>\n",
       "      <td>bb0099ce-3073-4613-8557</td>\n",
       "      <td>warblrb10k</td>\n",
       "      <td>1</td>\n",
       "      <td>7</td>\n",
       "      <td>war_2</td>\n",
       "      <td>00002_war</td>\n",
       "    </tr>\n",
       "    <tr>\n",
       "      <th>3</th>\n",
       "      <td>c4c67e81-9aa8-4af4-8eb7</td>\n",
       "      <td>warblrb10k</td>\n",
       "      <td>1</td>\n",
       "      <td>4</td>\n",
       "      <td>war_3</td>\n",
       "      <td>00003_war</td>\n",
       "    </tr>\n",
       "    <tr>\n",
       "      <th>4</th>\n",
       "      <td>ab322d4b-da69-4b06-a065</td>\n",
       "      <td>warblrb10k</td>\n",
       "      <td>0</td>\n",
       "      <td>4</td>\n",
       "      <td>war_4</td>\n",
       "      <td>00004_war</td>\n",
       "    </tr>\n",
       "  </tbody>\n",
       "</table>\n",
       "</div>"
      ],
      "text/plain": [
       "                itemid_old   datasetid  hasbird  fold itemid_old.1     itemid\n",
       "0  759808e5-f824-401e-9058  warblrb10k        1     1        war_0  00000_war\n",
       "1  1d94fc4a-1c63-4da0-9cac  warblrb10k        1     0        war_1  00001_war\n",
       "2  bb0099ce-3073-4613-8557  warblrb10k        1     7        war_2  00002_war\n",
       "3  c4c67e81-9aa8-4af4-8eb7  warblrb10k        1     4        war_3  00003_war\n",
       "4  ab322d4b-da69-4b06-a065  warblrb10k        0     4        war_4  00004_war"
      ]
     },
     "execution_count": 3,
     "metadata": {},
     "output_type": "execute_result"
    }
   ],
   "source": [
    "print(war.shape)\n",
    "war.head()"
   ]
  },
  {
   "cell_type": "code",
   "execution_count": 4,
   "id": "ccc390b3",
   "metadata": {
    "scrolled": true
   },
   "outputs": [
    {
     "data": {
      "text/html": [
       "<div>\n",
       "<style scoped>\n",
       "    .dataframe tbody tr th:only-of-type {\n",
       "        vertical-align: middle;\n",
       "    }\n",
       "\n",
       "    .dataframe tbody tr th {\n",
       "        vertical-align: top;\n",
       "    }\n",
       "\n",
       "    .dataframe thead th {\n",
       "        text-align: right;\n",
       "    }\n",
       "</style>\n",
       "<table border=\"1\" class=\"dataframe\">\n",
       "  <thead>\n",
       "    <tr style=\"text-align: right;\">\n",
       "      <th></th>\n",
       "      <th>itemid_old</th>\n",
       "      <th>datasetid</th>\n",
       "      <th>hasbird</th>\n",
       "      <th>fold</th>\n",
       "      <th>itemid_old.1</th>\n",
       "      <th>itemid</th>\n",
       "    </tr>\n",
       "  </thead>\n",
       "  <tbody>\n",
       "    <tr>\n",
       "      <th>0</th>\n",
       "      <td>759808e5-f824-401e-9058</td>\n",
       "      <td>warblrb10k</td>\n",
       "      <td>1</td>\n",
       "      <td>1</td>\n",
       "      <td>war_0</td>\n",
       "      <td>00000_war</td>\n",
       "    </tr>\n",
       "    <tr>\n",
       "      <th>1</th>\n",
       "      <td>1d94fc4a-1c63-4da0-9cac</td>\n",
       "      <td>warblrb10k</td>\n",
       "      <td>1</td>\n",
       "      <td>0</td>\n",
       "      <td>war_1</td>\n",
       "      <td>00001_war</td>\n",
       "    </tr>\n",
       "    <tr>\n",
       "      <th>2</th>\n",
       "      <td>bb0099ce-3073-4613-8557</td>\n",
       "      <td>warblrb10k</td>\n",
       "      <td>1</td>\n",
       "      <td>7</td>\n",
       "      <td>war_2</td>\n",
       "      <td>00002_war</td>\n",
       "    </tr>\n",
       "    <tr>\n",
       "      <th>3</th>\n",
       "      <td>c4c67e81-9aa8-4af4-8eb7</td>\n",
       "      <td>warblrb10k</td>\n",
       "      <td>1</td>\n",
       "      <td>4</td>\n",
       "      <td>war_3</td>\n",
       "      <td>00003_war</td>\n",
       "    </tr>\n",
       "    <tr>\n",
       "      <th>4</th>\n",
       "      <td>ab322d4b-da69-4b06-a065</td>\n",
       "      <td>warblrb10k</td>\n",
       "      <td>0</td>\n",
       "      <td>4</td>\n",
       "      <td>war_4</td>\n",
       "      <td>00004_war</td>\n",
       "    </tr>\n",
       "  </tbody>\n",
       "</table>\n",
       "</div>"
      ],
      "text/plain": [
       "                itemid_old   datasetid  hasbird  fold itemid_old.1     itemid\n",
       "0  759808e5-f824-401e-9058  warblrb10k        1     1        war_0  00000_war\n",
       "1  1d94fc4a-1c63-4da0-9cac  warblrb10k        1     0        war_1  00001_war\n",
       "2  bb0099ce-3073-4613-8557  warblrb10k        1     7        war_2  00002_war\n",
       "3  c4c67e81-9aa8-4af4-8eb7  warblrb10k        1     4        war_3  00003_war\n",
       "4  ab322d4b-da69-4b06-a065  warblrb10k        0     4        war_4  00004_war"
      ]
     },
     "execution_count": 4,
     "metadata": {},
     "output_type": "execute_result"
    }
   ],
   "source": [
    "war[\"itemid\"] = [f\"{str(i).zfill(5)}_war\" for i in range(war.shape[0])]\n",
    "war.head()"
   ]
  },
  {
   "cell_type": "code",
   "execution_count": 5,
   "id": "596bbc8c",
   "metadata": {},
   "outputs": [],
   "source": [
    "war.to_csv(\"../data/warblrb10k_public/warblrb10k_clean.csv\", index=False)"
   ]
  },
  {
   "cell_type": "code",
   "execution_count": 6,
   "id": "97dbc380",
   "metadata": {},
   "outputs": [],
   "source": [
    "for _, i in war.iterrows():\n",
    "    # print(i)\n",
    "    # print(i['itemid_old.1'], i['itemid'])\n",
    "    os.rename(\n",
    "        f'../data/warblrb10k_public/audio/wav/{i[\"itemid_old\"]}.wav',\n",
    "        f'../data/warblrb10k_public/audio/wav/{i[\"itemid\"]}.wav',\n",
    "    )"
   ]
  },
  {
   "cell_type": "markdown",
   "id": "cfe05f4f",
   "metadata": {},
   "source": [
    "## binary_v1 model . resnet50 model"
   ]
  },
  {
   "cell_type": "code",
   "execution_count": 7,
   "id": "5efab7fb",
   "metadata": {},
   "outputs": [],
   "source": [
    "oof_df = pd.read_csv(\"../prediction/binary_v1/oof.csv\")\n",
    "war = pd.read_csv(\"../data/warblrb10k_public/warblrb10k_clean.csv\")\n",
    "\n",
    "dict_id = {}\n",
    "in_dict = war[[\"itemid_old\", \"itemid\"]].to_dict()[\"itemid_old\"]\n",
    "for i in in_dict.keys():\n",
    "    dict_id[in_dict[i]] = f\"{str(i).zfill(5)}_war\""
   ]
  },
  {
   "cell_type": "code",
   "execution_count": null,
   "id": "a729dcec",
   "metadata": {
    "scrolled": true
   },
   "outputs": [],
   "source": []
  },
  {
   "cell_type": "code",
   "execution_count": 8,
   "id": "57a2a090",
   "metadata": {},
   "outputs": [
    {
     "data": {
      "text/html": [
       "<div>\n",
       "<style scoped>\n",
       "    .dataframe tbody tr th:only-of-type {\n",
       "        vertical-align: middle;\n",
       "    }\n",
       "\n",
       "    .dataframe tbody tr th {\n",
       "        vertical-align: top;\n",
       "    }\n",
       "\n",
       "    .dataframe thead th {\n",
       "        text-align: right;\n",
       "    }\n",
       "</style>\n",
       "<table border=\"1\" class=\"dataframe\">\n",
       "  <thead>\n",
       "    <tr style=\"text-align: right;\">\n",
       "      <th></th>\n",
       "      <th>itemid</th>\n",
       "      <th>hasbird</th>\n",
       "      <th>prediction</th>\n",
       "    </tr>\n",
       "  </thead>\n",
       "  <tbody>\n",
       "    <tr>\n",
       "      <th>0</th>\n",
       "      <td>302dbf48-0fe3-412d-a8f7</td>\n",
       "      <td>1</td>\n",
       "      <td>0.736246</td>\n",
       "    </tr>\n",
       "    <tr>\n",
       "      <th>1</th>\n",
       "      <td>174590</td>\n",
       "      <td>0</td>\n",
       "      <td>0.054878</td>\n",
       "    </tr>\n",
       "    <tr>\n",
       "      <th>2</th>\n",
       "      <td>81269</td>\n",
       "      <td>1</td>\n",
       "      <td>0.747813</td>\n",
       "    </tr>\n",
       "    <tr>\n",
       "      <th>3</th>\n",
       "      <td>48b2fbb9-cd95-4bb5-aba4</td>\n",
       "      <td>1</td>\n",
       "      <td>0.989734</td>\n",
       "    </tr>\n",
       "    <tr>\n",
       "      <th>4</th>\n",
       "      <td>7b73beff-6272-431b-b1eb</td>\n",
       "      <td>1</td>\n",
       "      <td>0.829467</td>\n",
       "    </tr>\n",
       "  </tbody>\n",
       "</table>\n",
       "</div>"
      ],
      "text/plain": [
       "                    itemid  hasbird  prediction\n",
       "0  302dbf48-0fe3-412d-a8f7        1    0.736246\n",
       "1                   174590        0    0.054878\n",
       "2                    81269        1    0.747813\n",
       "3  48b2fbb9-cd95-4bb5-aba4        1    0.989734\n",
       "4  7b73beff-6272-431b-b1eb        1    0.829467"
      ]
     },
     "execution_count": 8,
     "metadata": {},
     "output_type": "execute_result"
    }
   ],
   "source": [
    "oof_df.head()"
   ]
  },
  {
   "cell_type": "code",
   "execution_count": 9,
   "id": "eae61ca4",
   "metadata": {},
   "outputs": [],
   "source": [
    "oof_df = oof_df.replace(\n",
    "    to_replace=dict_id.keys(),\n",
    "    value=dict_id.values(),\n",
    ")"
   ]
  },
  {
   "cell_type": "code",
   "execution_count": 10,
   "id": "2552e1a6",
   "metadata": {},
   "outputs": [
    {
     "data": {
      "text/html": [
       "<div>\n",
       "<style scoped>\n",
       "    .dataframe tbody tr th:only-of-type {\n",
       "        vertical-align: middle;\n",
       "    }\n",
       "\n",
       "    .dataframe tbody tr th {\n",
       "        vertical-align: top;\n",
       "    }\n",
       "\n",
       "    .dataframe thead th {\n",
       "        text-align: right;\n",
       "    }\n",
       "</style>\n",
       "<table border=\"1\" class=\"dataframe\">\n",
       "  <thead>\n",
       "    <tr style=\"text-align: right;\">\n",
       "      <th></th>\n",
       "      <th>itemid</th>\n",
       "      <th>hasbird</th>\n",
       "      <th>prediction</th>\n",
       "    </tr>\n",
       "  </thead>\n",
       "  <tbody>\n",
       "    <tr>\n",
       "      <th>0</th>\n",
       "      <td>04363_war</td>\n",
       "      <td>1</td>\n",
       "      <td>0.736246</td>\n",
       "    </tr>\n",
       "    <tr>\n",
       "      <th>1</th>\n",
       "      <td>174590</td>\n",
       "      <td>0</td>\n",
       "      <td>0.054878</td>\n",
       "    </tr>\n",
       "    <tr>\n",
       "      <th>2</th>\n",
       "      <td>81269</td>\n",
       "      <td>1</td>\n",
       "      <td>0.747813</td>\n",
       "    </tr>\n",
       "    <tr>\n",
       "      <th>3</th>\n",
       "      <td>03066_war</td>\n",
       "      <td>1</td>\n",
       "      <td>0.989734</td>\n",
       "    </tr>\n",
       "    <tr>\n",
       "      <th>4</th>\n",
       "      <td>04324_war</td>\n",
       "      <td>1</td>\n",
       "      <td>0.829467</td>\n",
       "    </tr>\n",
       "  </tbody>\n",
       "</table>\n",
       "</div>"
      ],
      "text/plain": [
       "      itemid  hasbird  prediction\n",
       "0  04363_war        1    0.736246\n",
       "1     174590        0    0.054878\n",
       "2      81269        1    0.747813\n",
       "3  03066_war        1    0.989734\n",
       "4  04324_war        1    0.829467"
      ]
     },
     "execution_count": 10,
     "metadata": {},
     "output_type": "execute_result"
    }
   ],
   "source": [
    "oof_df.head()"
   ]
  },
  {
   "cell_type": "code",
   "execution_count": 11,
   "id": "5f4612c3",
   "metadata": {},
   "outputs": [
    {
     "data": {
      "text/plain": [
       "<AxesSubplot:>"
      ]
     },
     "execution_count": 11,
     "metadata": {},
     "output_type": "execute_result"
    },
    {
     "data": {
      "image/png": "[encoded data removed]",
      "text/plain": [
       "<Figure size 432x288 with 1 Axes>"
      ]
     },
     "metadata": {
      "needs_background": "light"
     },
     "output_type": "display_data"
    }
   ],
   "source": [
    "oof_df[\"prediction\"].hist(bins=40)"
   ]
  },
  {
   "cell_type": "markdown",
   "id": "62029f92",
   "metadata": {},
   "source": [
    "## lets view the prediction in range 0.4 and 0.6"
   ]
  },
  {
   "cell_type": "code",
   "execution_count": 12,
   "id": "790293c8",
   "metadata": {},
   "outputs": [],
   "source": [
    "df_range = oof_df[oof_df[\"prediction\"].between(0.4, 0.6)]"
   ]
  },
  {
   "cell_type": "code",
   "execution_count": 13,
   "id": "5e92b1aa",
   "metadata": {},
   "outputs": [
    {
     "data": {
      "text/html": [
       "<div>\n",
       "<style scoped>\n",
       "    .dataframe tbody tr th:only-of-type {\n",
       "        vertical-align: middle;\n",
       "    }\n",
       "\n",
       "    .dataframe tbody tr th {\n",
       "        vertical-align: top;\n",
       "    }\n",
       "\n",
       "    .dataframe thead th {\n",
       "        text-align: right;\n",
       "    }\n",
       "</style>\n",
       "<table border=\"1\" class=\"dataframe\">\n",
       "  <thead>\n",
       "    <tr style=\"text-align: right;\">\n",
       "      <th></th>\n",
       "      <th>itemid</th>\n",
       "      <th>hasbird</th>\n",
       "      <th>prediction</th>\n",
       "    </tr>\n",
       "  </thead>\n",
       "  <tbody>\n",
       "    <tr>\n",
       "      <th>12</th>\n",
       "      <td>05720_war</td>\n",
       "      <td>1</td>\n",
       "      <td>0.585606</td>\n",
       "    </tr>\n",
       "    <tr>\n",
       "      <th>15</th>\n",
       "      <td>00134_war</td>\n",
       "      <td>1</td>\n",
       "      <td>0.538043</td>\n",
       "    </tr>\n",
       "    <tr>\n",
       "      <th>18</th>\n",
       "      <td>06483_war</td>\n",
       "      <td>1</td>\n",
       "      <td>0.472977</td>\n",
       "    </tr>\n",
       "    <tr>\n",
       "      <th>48</th>\n",
       "      <td>173904</td>\n",
       "      <td>1</td>\n",
       "      <td>0.575723</td>\n",
       "    </tr>\n",
       "    <tr>\n",
       "      <th>107</th>\n",
       "      <td>46850</td>\n",
       "      <td>0</td>\n",
       "      <td>0.444025</td>\n",
       "    </tr>\n",
       "  </tbody>\n",
       "</table>\n",
       "</div>"
      ],
      "text/plain": [
       "        itemid  hasbird  prediction\n",
       "12   05720_war        1    0.585606\n",
       "15   00134_war        1    0.538043\n",
       "18   06483_war        1    0.472977\n",
       "48      173904        1    0.575723\n",
       "107      46850        0    0.444025"
      ]
     },
     "execution_count": 13,
     "metadata": {},
     "output_type": "execute_result"
    }
   ],
   "source": [
    "df_range.head()"
   ]
  },
  {
   "cell_type": "code",
   "execution_count": 14,
   "id": "07fe944e",
   "metadata": {},
   "outputs": [
    {
     "data": {
      "text/plain": [
       "<AxesSubplot:>"
      ]
     },
     "execution_count": 14,
     "metadata": {},
     "output_type": "execute_result"
    },
    {
     "data": {
      "image/png": "[encoded data removed]",
      "text/plain": [
       "<Figure size 432x288 with 1 Axes>"
      ]
     },
     "metadata": {
      "needs_background": "light"
     },
     "output_type": "display_data"
    }
   ],
   "source": [
    "df_range[\"hasbird\"].value_counts().plot.bar()"
   ]
  },
  {
   "cell_type": "markdown",
   "id": "93b24173",
   "metadata": {},
   "source": [
    "## make a stacked bar graph. to see it more good "
   ]
  },
  {
   "cell_type": "code",
   "execution_count": null,
   "id": "23cc59bb",
   "metadata": {},
   "outputs": [],
   "source": []
  },
  {
   "cell_type": "markdown",
   "id": "7710a230",
   "metadata": {},
   "source": [
    "## lets extract the most confident region and check against actual label"
   ]
  },
  {
   "cell_type": "code",
   "execution_count": 15,
   "id": "6d607673",
   "metadata": {},
   "outputs": [],
   "source": [
    "df_range = oof_df[~oof_df[\"prediction\"].between(0.2, 0.8)]"
   ]
  },
  {
   "cell_type": "code",
   "execution_count": 16,
   "id": "1b6cb96b",
   "metadata": {},
   "outputs": [
    {
     "data": {
      "text/html": [
       "<div>\n",
       "<style scoped>\n",
       "    .dataframe tbody tr th:only-of-type {\n",
       "        vertical-align: middle;\n",
       "    }\n",
       "\n",
       "    .dataframe tbody tr th {\n",
       "        vertical-align: top;\n",
       "    }\n",
       "\n",
       "    .dataframe thead th {\n",
       "        text-align: right;\n",
       "    }\n",
       "</style>\n",
       "<table border=\"1\" class=\"dataframe\">\n",
       "  <thead>\n",
       "    <tr style=\"text-align: right;\">\n",
       "      <th></th>\n",
       "      <th>itemid</th>\n",
       "      <th>hasbird</th>\n",
       "      <th>prediction</th>\n",
       "    </tr>\n",
       "  </thead>\n",
       "  <tbody>\n",
       "    <tr>\n",
       "      <th>1</th>\n",
       "      <td>174590</td>\n",
       "      <td>0</td>\n",
       "      <td>0.054878</td>\n",
       "    </tr>\n",
       "    <tr>\n",
       "      <th>3</th>\n",
       "      <td>03066_war</td>\n",
       "      <td>1</td>\n",
       "      <td>0.989734</td>\n",
       "    </tr>\n",
       "    <tr>\n",
       "      <th>4</th>\n",
       "      <td>04324_war</td>\n",
       "      <td>1</td>\n",
       "      <td>0.829467</td>\n",
       "    </tr>\n",
       "    <tr>\n",
       "      <th>5</th>\n",
       "      <td>126848</td>\n",
       "      <td>0</td>\n",
       "      <td>0.046634</td>\n",
       "    </tr>\n",
       "    <tr>\n",
       "      <th>6</th>\n",
       "      <td>00262_war</td>\n",
       "      <td>1</td>\n",
       "      <td>0.982055</td>\n",
       "    </tr>\n",
       "  </tbody>\n",
       "</table>\n",
       "</div>"
      ],
      "text/plain": [
       "      itemid  hasbird  prediction\n",
       "1     174590        0    0.054878\n",
       "3  03066_war        1    0.989734\n",
       "4  04324_war        1    0.829467\n",
       "5     126848        0    0.046634\n",
       "6  00262_war        1    0.982055"
      ]
     },
     "execution_count": 16,
     "metadata": {},
     "output_type": "execute_result"
    }
   ],
   "source": [
    "df_range.head()"
   ]
  },
  {
   "cell_type": "code",
   "execution_count": 17,
   "id": "0c43e816",
   "metadata": {},
   "outputs": [
    {
     "name": "stderr",
     "output_type": "stream",
     "text": [
      "/tmp/ipykernel_480/971454465.py:8: SettingWithCopyWarning: \n",
      "A value is trying to be set on a copy of a slice from a DataFrame.\n",
      "Try using .loc[row_indexer,col_indexer] = value instead\n",
      "\n",
      "See the caveats in the documentation: https://pandas.pydata.org/pandas-docs/stable/user_guide/indexing.html#returning-a-view-versus-a-copy\n",
      "  df_range['pred_coded'] = df_range['prediction'].map(predcode)\n"
     ]
    },
    {
     "data": {
      "text/html": [
       "<div>\n",
       "<style scoped>\n",
       "    .dataframe tbody tr th:only-of-type {\n",
       "        vertical-align: middle;\n",
       "    }\n",
       "\n",
       "    .dataframe tbody tr th {\n",
       "        vertical-align: top;\n",
       "    }\n",
       "\n",
       "    .dataframe thead th {\n",
       "        text-align: right;\n",
       "    }\n",
       "</style>\n",
       "<table border=\"1\" class=\"dataframe\">\n",
       "  <thead>\n",
       "    <tr style=\"text-align: right;\">\n",
       "      <th></th>\n",
       "      <th>itemid</th>\n",
       "      <th>hasbird</th>\n",
       "      <th>prediction</th>\n",
       "      <th>pred_coded</th>\n",
       "    </tr>\n",
       "  </thead>\n",
       "  <tbody>\n",
       "    <tr>\n",
       "      <th>1</th>\n",
       "      <td>174590</td>\n",
       "      <td>0</td>\n",
       "      <td>0.054878</td>\n",
       "      <td>0</td>\n",
       "    </tr>\n",
       "    <tr>\n",
       "      <th>3</th>\n",
       "      <td>03066_war</td>\n",
       "      <td>1</td>\n",
       "      <td>0.989734</td>\n",
       "      <td>1</td>\n",
       "    </tr>\n",
       "    <tr>\n",
       "      <th>4</th>\n",
       "      <td>04324_war</td>\n",
       "      <td>1</td>\n",
       "      <td>0.829467</td>\n",
       "      <td>1</td>\n",
       "    </tr>\n",
       "    <tr>\n",
       "      <th>5</th>\n",
       "      <td>126848</td>\n",
       "      <td>0</td>\n",
       "      <td>0.046634</td>\n",
       "      <td>0</td>\n",
       "    </tr>\n",
       "    <tr>\n",
       "      <th>6</th>\n",
       "      <td>00262_war</td>\n",
       "      <td>1</td>\n",
       "      <td>0.982055</td>\n",
       "      <td>1</td>\n",
       "    </tr>\n",
       "  </tbody>\n",
       "</table>\n",
       "</div>"
      ],
      "text/plain": [
       "      itemid  hasbird  prediction  pred_coded\n",
       "1     174590        0    0.054878           0\n",
       "3  03066_war        1    0.989734           1\n",
       "4  04324_war        1    0.829467           1\n",
       "5     126848        0    0.046634           0\n",
       "6  00262_war        1    0.982055           1"
      ]
     },
     "execution_count": 17,
     "metadata": {},
     "output_type": "execute_result"
    }
   ],
   "source": [
    "## prediction coded\n",
    "def predcode(x):\n",
    "    if x < 0.21:\n",
    "        return 0\n",
    "    elif x > 0.79:\n",
    "        return 1\n",
    "\n",
    "\n",
    "df_range[\"pred_coded\"] = df_range[\"prediction\"].map(predcode)\n",
    "df_range.head()"
   ]
  },
  {
   "cell_type": "code",
   "execution_count": 103,
   "id": "45f15b62",
   "metadata": {},
   "outputs": [
    {
     "data": {
      "text/plain": [
       "1        True\n",
       "3        True\n",
       "4        True\n",
       "5        True\n",
       "6        True\n",
       "         ... \n",
       "14331    True\n",
       "14332    True\n",
       "14333    True\n",
       "14334    True\n",
       "14335    True\n",
       "Length: 10880, dtype: bool"
      ]
     },
     "execution_count": 103,
     "metadata": {},
     "output_type": "execute_result"
    }
   ],
   "source": [
    "df_range[\"hasbird\"] == df_range[\"pred_coded\"]"
   ]
  },
  {
   "cell_type": "code",
   "execution_count": 18,
   "id": "aaa9b479",
   "metadata": {},
   "outputs": [],
   "source": [
    "high_conf_wrong_df = df_range[df_range[\"hasbird\"] != df_range[\"pred_coded\"]]"
   ]
  },
  {
   "cell_type": "code",
   "execution_count": 19,
   "id": "9b253f1b",
   "metadata": {},
   "outputs": [
    {
     "name": "stdout",
     "output_type": "stream",
     "text": [
      "(584, 4)\n"
     ]
    }
   ],
   "source": [
    "print(high_conf_wrong_df.shape)\n",
    "high_conf_wrong_df.head()\n",
    "high_conf_wrong_df.to_csv(\"../prediction/binary_v1/high_conf_wrong_df.csv\", index=False)"
   ]
  },
  {
   "cell_type": "markdown",
   "id": "b5f9721d",
   "metadata": {},
   "source": [
    "## lets copy the file for inspection"
   ]
  },
  {
   "cell_type": "code",
   "execution_count": 106,
   "id": "6c906873",
   "metadata": {},
   "outputs": [],
   "source": [
    "for i in high_conf_wrong_df[\"itemid\"]:\n",
    "    # print(i)\n",
    "    try:\n",
    "        shutil.copyfile(\n",
    "            f\"/work/birdclif/birdclif_2022/data/ff1010bird/audio/wav/{i}.wav\",\n",
    "            f\"/work/birdclif/birdclif_2022/prediction/binary_v1/analysis/ff1010bird/{i}.wav\",\n",
    "        )\n",
    "    except:\n",
    "        shutil.copyfile(\n",
    "            f\"/work/birdclif/birdclif_2022/data/warblrb10k_public/audio/wav/{i}.wav\",\n",
    "            f\"/work/birdclif/birdclif_2022/prediction/binary_v1/analysis/warblrb10k_public/{i}.wav\",\n",
    "        )\n",
    "\n",
    "# shutil.copyfile(src, dst)"
   ]
  },
  {
   "cell_type": "markdown",
   "id": "a887ced5",
   "metadata": {},
   "source": [
    "## war renaming the oof to make it easy"
   ]
  },
  {
   "cell_type": "code",
   "execution_count": 24,
   "id": "6d85adea",
   "metadata": {},
   "outputs": [
    {
     "data": {
      "text/html": [
       "<div>\n",
       "<style scoped>\n",
       "    .dataframe tbody tr th:only-of-type {\n",
       "        vertical-align: middle;\n",
       "    }\n",
       "\n",
       "    .dataframe tbody tr th {\n",
       "        vertical-align: top;\n",
       "    }\n",
       "\n",
       "    .dataframe thead th {\n",
       "        text-align: right;\n",
       "    }\n",
       "</style>\n",
       "<table border=\"1\" class=\"dataframe\">\n",
       "  <thead>\n",
       "    <tr style=\"text-align: right;\">\n",
       "      <th></th>\n",
       "      <th>itemid_old</th>\n",
       "      <th>datasetid</th>\n",
       "      <th>hasbird</th>\n",
       "      <th>fold</th>\n",
       "      <th>itemid</th>\n",
       "    </tr>\n",
       "  </thead>\n",
       "  <tbody>\n",
       "    <tr>\n",
       "      <th>0</th>\n",
       "      <td>759808e5-f824-401e-9058</td>\n",
       "      <td>warblrb10k</td>\n",
       "      <td>1</td>\n",
       "      <td>1</td>\n",
       "      <td>war_0</td>\n",
       "    </tr>\n",
       "    <tr>\n",
       "      <th>1</th>\n",
       "      <td>1d94fc4a-1c63-4da0-9cac</td>\n",
       "      <td>warblrb10k</td>\n",
       "      <td>1</td>\n",
       "      <td>0</td>\n",
       "      <td>war_1</td>\n",
       "    </tr>\n",
       "    <tr>\n",
       "      <th>2</th>\n",
       "      <td>bb0099ce-3073-4613-8557</td>\n",
       "      <td>warblrb10k</td>\n",
       "      <td>1</td>\n",
       "      <td>7</td>\n",
       "      <td>war_2</td>\n",
       "    </tr>\n",
       "    <tr>\n",
       "      <th>3</th>\n",
       "      <td>c4c67e81-9aa8-4af4-8eb7</td>\n",
       "      <td>warblrb10k</td>\n",
       "      <td>1</td>\n",
       "      <td>4</td>\n",
       "      <td>war_3</td>\n",
       "    </tr>\n",
       "    <tr>\n",
       "      <th>4</th>\n",
       "      <td>ab322d4b-da69-4b06-a065</td>\n",
       "      <td>warblrb10k</td>\n",
       "      <td>0</td>\n",
       "      <td>4</td>\n",
       "      <td>war_4</td>\n",
       "    </tr>\n",
       "  </tbody>\n",
       "</table>\n",
       "</div>"
      ],
      "text/plain": [
       "                itemid_old   datasetid  hasbird  fold itemid\n",
       "0  759808e5-f824-401e-9058  warblrb10k        1     1  war_0\n",
       "1  1d94fc4a-1c63-4da0-9cac  warblrb10k        1     0  war_1\n",
       "2  bb0099ce-3073-4613-8557  warblrb10k        1     7  war_2\n",
       "3  c4c67e81-9aa8-4af4-8eb7  warblrb10k        1     4  war_3\n",
       "4  ab322d4b-da69-4b06-a065  warblrb10k        0     4  war_4"
      ]
     },
     "execution_count": 24,
     "metadata": {},
     "output_type": "execute_result"
    }
   ],
   "source": [
    "war.head()"
   ]
  },
  {
   "cell_type": "markdown",
   "id": "e3352083",
   "metadata": {},
   "source": [
    "## lets merge the my label column"
   ]
  },
  {
   "cell_type": "markdown",
   "id": "5d932864",
   "metadata": {},
   "source": [
    "## ff1010bird"
   ]
  },
  {
   "cell_type": "code",
   "execution_count": 35,
   "id": "eb3d8d14",
   "metadata": {},
   "outputs": [
    {
     "name": "stdout",
     "output_type": "stream",
     "text": [
      "(7690, 3)\n",
      "(159, 2)\n",
      "(7531, 3)\n",
      "(159, 2)\n",
      "(159, 3)\n",
      "(7690, 3)\n"
     ]
    }
   ],
   "source": [
    "main_df = pd.read_csv(\"../data/ff1010bird/ff1010bird_metadata_2018.csv\")\n",
    "main_df.head()\n",
    "\n",
    "label_df = pd.read_csv(\"../prediction/binary_v1/high_conf_wrong_df_my_label.csv\")\n",
    "\n",
    "label_df.head()\n",
    "\n",
    "## lets remove nan rows\n",
    "\n",
    "label_df = label_df.dropna()\n",
    "label_df = label_df.drop([\"hasbird\", \"prediction\", \"pred_coded\"], axis=1)\n",
    "label_df[\"my_label\"] = label_df[\"my_label\"].map(int)\n",
    "\n",
    "label_df.head()\n",
    "\n",
    "## extract the row where i have made the vlaues\n",
    "print(main_df.shape)\n",
    "main_df[\"itemid\"] = main_df[\"itemid\"].map(str)\n",
    "hand_df = main_df[main_df[\"itemid\"].isin(label_df[\"itemid\"].values)]\n",
    "no_hand_df = main_df[~main_df[\"itemid\"].isin(label_df[\"itemid\"].values)]\n",
    "hand_df = hand_df.drop([\"hasbird\"], axis=1)\n",
    "# no_hand_df = no_hand_df.drop(['fold'],axis=1)\n",
    "print(hand_df.shape)\n",
    "print(no_hand_df.shape)\n",
    "\n",
    "## lets merge\n",
    "print(hand_df.shape)\n",
    "hand_df = hand_df.merge(label_df, how=\"left\")\n",
    "hand_df = hand_df.rename(columns={\"my_label\": \"hasbird\"})\n",
    "print(hand_df.shape)\n",
    "\n",
    "main_df = pd.concat([hand_df, no_hand_df], axis=0)\n",
    "print(main_df.shape)\n",
    "main_df.head()\n",
    "main_df.to_csv(\n",
    "    \"../data/ff1010bird/ff1010bird_metadata_2018_correction_binary_v1.csv\", index=False\n",
    ")"
   ]
  },
  {
   "cell_type": "code",
   "execution_count": 34,
   "id": "5ee7db28",
   "metadata": {},
   "outputs": [
    {
     "data": {
      "text/html": [
       "<div>\n",
       "<style scoped>\n",
       "    .dataframe tbody tr th:only-of-type {\n",
       "        vertical-align: middle;\n",
       "    }\n",
       "\n",
       "    .dataframe tbody tr th {\n",
       "        vertical-align: top;\n",
       "    }\n",
       "\n",
       "    .dataframe thead th {\n",
       "        text-align: right;\n",
       "    }\n",
       "</style>\n",
       "<table border=\"1\" class=\"dataframe\">\n",
       "  <thead>\n",
       "    <tr style=\"text-align: right;\">\n",
       "      <th></th>\n",
       "      <th>itemid</th>\n",
       "      <th>datasetid</th>\n",
       "      <th>hasbird</th>\n",
       "    </tr>\n",
       "  </thead>\n",
       "  <tbody>\n",
       "    <tr>\n",
       "      <th>0</th>\n",
       "      <td>42805</td>\n",
       "      <td>ff1010bird</td>\n",
       "      <td>0</td>\n",
       "    </tr>\n",
       "    <tr>\n",
       "      <th>1</th>\n",
       "      <td>40130</td>\n",
       "      <td>ff1010bird</td>\n",
       "      <td>0</td>\n",
       "    </tr>\n",
       "    <tr>\n",
       "      <th>2</th>\n",
       "      <td>32261</td>\n",
       "      <td>ff1010bird</td>\n",
       "      <td>1</td>\n",
       "    </tr>\n",
       "    <tr>\n",
       "      <th>3</th>\n",
       "      <td>140825</td>\n",
       "      <td>ff1010bird</td>\n",
       "      <td>0</td>\n",
       "    </tr>\n",
       "    <tr>\n",
       "      <th>4</th>\n",
       "      <td>107522</td>\n",
       "      <td>ff1010bird</td>\n",
       "      <td>0</td>\n",
       "    </tr>\n",
       "  </tbody>\n",
       "</table>\n",
       "</div>"
      ],
      "text/plain": [
       "   itemid   datasetid  hasbird\n",
       "0   42805  ff1010bird        0\n",
       "1   40130  ff1010bird        0\n",
       "2   32261  ff1010bird        1\n",
       "3  140825  ff1010bird        0\n",
       "4  107522  ff1010bird        0"
      ]
     },
     "execution_count": 34,
     "metadata": {},
     "output_type": "execute_result"
    }
   ],
   "source": [
    "main_df.head()"
   ]
  },
  {
   "cell_type": "code",
   "execution_count": 53,
   "id": "a7cb1034",
   "metadata": {},
   "outputs": [
    {
     "data": {
      "text/html": [
       "<div>\n",
       "<style scoped>\n",
       "    .dataframe tbody tr th:only-of-type {\n",
       "        vertical-align: middle;\n",
       "    }\n",
       "\n",
       "    .dataframe tbody tr th {\n",
       "        vertical-align: top;\n",
       "    }\n",
       "\n",
       "    .dataframe thead th {\n",
       "        text-align: right;\n",
       "    }\n",
       "</style>\n",
       "<table border=\"1\" class=\"dataframe\">\n",
       "  <thead>\n",
       "    <tr style=\"text-align: right;\">\n",
       "      <th></th>\n",
       "      <th>itemid</th>\n",
       "      <th>datasetid</th>\n",
       "      <th>hasbird</th>\n",
       "    </tr>\n",
       "  </thead>\n",
       "  <tbody>\n",
       "    <tr>\n",
       "      <th>0</th>\n",
       "      <td>42805</td>\n",
       "      <td>ff1010bird</td>\n",
       "      <td>0</td>\n",
       "    </tr>\n",
       "    <tr>\n",
       "      <th>1</th>\n",
       "      <td>40130</td>\n",
       "      <td>ff1010bird</td>\n",
       "      <td>0</td>\n",
       "    </tr>\n",
       "    <tr>\n",
       "      <th>2</th>\n",
       "      <td>32261</td>\n",
       "      <td>ff1010bird</td>\n",
       "      <td>1</td>\n",
       "    </tr>\n",
       "    <tr>\n",
       "      <th>3</th>\n",
       "      <td>140825</td>\n",
       "      <td>ff1010bird</td>\n",
       "      <td>0</td>\n",
       "    </tr>\n",
       "    <tr>\n",
       "      <th>4</th>\n",
       "      <td>107522</td>\n",
       "      <td>ff1010bird</td>\n",
       "      <td>0</td>\n",
       "    </tr>\n",
       "  </tbody>\n",
       "</table>\n",
       "</div>"
      ],
      "text/plain": [
       "   itemid   datasetid  hasbird\n",
       "0   42805  ff1010bird        0\n",
       "1   40130  ff1010bird        0\n",
       "2   32261  ff1010bird        1\n",
       "3  140825  ff1010bird        0\n",
       "4  107522  ff1010bird        0"
      ]
     },
     "execution_count": 53,
     "metadata": {},
     "output_type": "execute_result"
    }
   ],
   "source": [
    "main_df.head()"
   ]
  },
  {
   "cell_type": "markdown",
   "id": "fcd4cab0",
   "metadata": {},
   "source": [
    "## warblrb10k_public"
   ]
  },
  {
   "cell_type": "code",
   "execution_count": 37,
   "id": "b6867a0a",
   "metadata": {},
   "outputs": [
    {
     "name": "stdout",
     "output_type": "stream",
     "text": [
      "(7591, 6)\n",
      "(147, 5)\n",
      "(7444, 5)\n",
      "(147, 5)\n",
      "(147, 6)\n",
      "(7591, 3)\n"
     ]
    }
   ],
   "source": [
    "main_df = pd.read_csv(\"../data/warblrb10k_public/warblrb10k_clean.csv\")\n",
    "main_df.head()\n",
    "\n",
    "label_df = pd.read_csv(\"../prediction/binary_v1/high_conf_wrong_df_my_label.csv\")\n",
    "\n",
    "label_df.head()\n",
    "\n",
    "## lets remove nan rows\n",
    "\n",
    "label_df = label_df.dropna()\n",
    "label_df = label_df.drop([\"hasbird\", \"prediction\", \"pred_coded\"], axis=1)\n",
    "label_df[\"my_label\"] = label_df[\"my_label\"].map(int)\n",
    "\n",
    "label_df.head()\n",
    "\n",
    "## extract the row where i have made the vlaues\n",
    "print(main_df.shape)\n",
    "main_df[\"itemid\"] = main_df[\"itemid\"].map(str)\n",
    "hand_df = main_df[main_df[\"itemid\"].isin(label_df[\"itemid\"].values)]\n",
    "no_hand_df = main_df[~main_df[\"itemid\"].isin(label_df[\"itemid\"].values)]\n",
    "hand_df = hand_df.drop([\"hasbird\"], axis=1)\n",
    "no_hand_df = no_hand_df.drop([\"fold\"], axis=1)\n",
    "print(hand_df.shape)\n",
    "print(no_hand_df.shape)\n",
    "\n",
    "## lets merge\n",
    "print(hand_df.shape)\n",
    "hand_df = hand_df.merge(label_df, how=\"left\")\n",
    "hand_df = hand_df.rename(columns={\"my_label\": \"hasbird\"})\n",
    "print(hand_df.shape)\n",
    "\n",
    "main_df = pd.concat([hand_df, no_hand_df], axis=0)\n",
    "\n",
    "\n",
    "## only for warblrb10k_public\n",
    "main_df = main_df.drop([\"itemid_old\", \"itemid_old.1\", \"fold\"], axis=1)\n",
    "print(main_df.shape)\n",
    "\n",
    "main_df.to_csv(\n",
    "    \"../data/warblrb10k_public/warblrb10k_clean_correction_binary_v1.csv\", index=False\n",
    ")"
   ]
  },
  {
   "cell_type": "code",
   "execution_count": 38,
   "id": "90b100cf",
   "metadata": {},
   "outputs": [
    {
     "data": {
      "text/html": [
       "<div>\n",
       "<style scoped>\n",
       "    .dataframe tbody tr th:only-of-type {\n",
       "        vertical-align: middle;\n",
       "    }\n",
       "\n",
       "    .dataframe tbody tr th {\n",
       "        vertical-align: top;\n",
       "    }\n",
       "\n",
       "    .dataframe thead th {\n",
       "        text-align: right;\n",
       "    }\n",
       "</style>\n",
       "<table border=\"1\" class=\"dataframe\">\n",
       "  <thead>\n",
       "    <tr style=\"text-align: right;\">\n",
       "      <th></th>\n",
       "      <th>datasetid</th>\n",
       "      <th>itemid</th>\n",
       "      <th>hasbird</th>\n",
       "    </tr>\n",
       "  </thead>\n",
       "  <tbody>\n",
       "    <tr>\n",
       "      <th>0</th>\n",
       "      <td>warblrb10k</td>\n",
       "      <td>00017_war</td>\n",
       "      <td>1</td>\n",
       "    </tr>\n",
       "    <tr>\n",
       "      <th>1</th>\n",
       "      <td>warblrb10k</td>\n",
       "      <td>00048_war</td>\n",
       "      <td>1</td>\n",
       "    </tr>\n",
       "    <tr>\n",
       "      <th>2</th>\n",
       "      <td>warblrb10k</td>\n",
       "      <td>00103_war</td>\n",
       "      <td>1</td>\n",
       "    </tr>\n",
       "    <tr>\n",
       "      <th>3</th>\n",
       "      <td>warblrb10k</td>\n",
       "      <td>00369_war</td>\n",
       "      <td>1</td>\n",
       "    </tr>\n",
       "    <tr>\n",
       "      <th>4</th>\n",
       "      <td>warblrb10k</td>\n",
       "      <td>00431_war</td>\n",
       "      <td>1</td>\n",
       "    </tr>\n",
       "  </tbody>\n",
       "</table>\n",
       "</div>"
      ],
      "text/plain": [
       "    datasetid     itemid  hasbird\n",
       "0  warblrb10k  00017_war        1\n",
       "1  warblrb10k  00048_war        1\n",
       "2  warblrb10k  00103_war        1\n",
       "3  warblrb10k  00369_war        1\n",
       "4  warblrb10k  00431_war        1"
      ]
     },
     "execution_count": 38,
     "metadata": {},
     "output_type": "execute_result"
    }
   ],
   "source": [
    "main_df.head()"
   ]
  }
 ],
 "metadata": {
  "kernelspec": {
   "display_name": "Python 3 (ipykernel)",
   "language": "python",
   "name": "python3"
  },
  "language_info": {
   "codemirror_mode": {
    "name": "ipython",
    "version": 3
   },
   "file_extension": ".py",
   "mimetype": "text/x-python",
   "name": "python",
   "nbconvert_exporter": "python",
   "pygments_lexer": "ipython3",
   "version": "3.8.10"
  }
 },
 "nbformat": 4,
 "nbformat_minor": 5
}
