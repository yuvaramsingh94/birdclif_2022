{
 "cells": [
  {
   "cell_type": "markdown",
   "id": "4a17cc6f",
   "metadata": {},
   "source": [
    "## About\n",
    "\n",
    "to create a notebook to make tf record for the bird , no bird model "
   ]
  },
  {
   "cell_type": "code",
   "execution_count": 1,
   "id": "ffc7772f",
   "metadata": {},
   "outputs": [],
   "source": [
    "import os, json, random\n",
    "import numpy as np, pandas as pd\n",
    "import matplotlib.pyplot as plt\n",
    "import tensorflow as tf, re, math\n",
    "from tqdm import tqdm"
   ]
  },
  {
   "cell_type": "markdown",
   "id": "a4fad313",
   "metadata": {},
   "source": [
    "## ff1010bird"
   ]
  },
  {
   "cell_type": "code",
   "execution_count": 8,
   "id": "f7b35bd5",
   "metadata": {},
   "outputs": [
    {
     "data": {
      "text/html": [
       "<div>\n",
       "<style scoped>\n",
       "    .dataframe tbody tr th:only-of-type {\n",
       "        vertical-align: middle;\n",
       "    }\n",
       "\n",
       "    .dataframe tbody tr th {\n",
       "        vertical-align: top;\n",
       "    }\n",
       "\n",
       "    .dataframe thead th {\n",
       "        text-align: right;\n",
       "    }\n",
       "</style>\n",
       "<table border=\"1\" class=\"dataframe\">\n",
       "  <thead>\n",
       "    <tr style=\"text-align: right;\">\n",
       "      <th></th>\n",
       "      <th>itemid</th>\n",
       "      <th>datasetid</th>\n",
       "      <th>hasbird</th>\n",
       "      <th>fold</th>\n",
       "    </tr>\n",
       "  </thead>\n",
       "  <tbody>\n",
       "    <tr>\n",
       "      <th>0</th>\n",
       "      <td>64486</td>\n",
       "      <td>ff1010bird</td>\n",
       "      <td>0</td>\n",
       "      <td>5</td>\n",
       "    </tr>\n",
       "    <tr>\n",
       "      <th>1</th>\n",
       "      <td>2525</td>\n",
       "      <td>ff1010bird</td>\n",
       "      <td>0</td>\n",
       "      <td>1</td>\n",
       "    </tr>\n",
       "    <tr>\n",
       "      <th>2</th>\n",
       "      <td>44981</td>\n",
       "      <td>ff1010bird</td>\n",
       "      <td>0</td>\n",
       "      <td>4</td>\n",
       "    </tr>\n",
       "    <tr>\n",
       "      <th>3</th>\n",
       "      <td>101323</td>\n",
       "      <td>ff1010bird</td>\n",
       "      <td>0</td>\n",
       "      <td>4</td>\n",
       "    </tr>\n",
       "    <tr>\n",
       "      <th>4</th>\n",
       "      <td>165746</td>\n",
       "      <td>ff1010bird</td>\n",
       "      <td>0</td>\n",
       "      <td>5</td>\n",
       "    </tr>\n",
       "  </tbody>\n",
       "</table>\n",
       "</div>"
      ],
      "text/plain": [
       "   itemid   datasetid  hasbird  fold\n",
       "0   64486  ff1010bird        0     5\n",
       "1    2525  ff1010bird        0     1\n",
       "2   44981  ff1010bird        0     4\n",
       "3  101323  ff1010bird        0     4\n",
       "4  165746  ff1010bird        0     5"
      ]
     },
     "execution_count": 8,
     "metadata": {},
     "output_type": "execute_result"
    }
   ],
   "source": [
    "DATATYPE = 'ff1010bird'\n",
    "main_df = pd.read_csv('../data/ff1010bird/ff1010bird_metadata_2018.csv')\n",
    "main_df.head()"
   ]
  },
  {
   "cell_type": "code",
   "execution_count": 7,
   "id": "e610c942",
   "metadata": {
    "scrolled": true
   },
   "outputs": [
    {
     "name": "stderr",
     "output_type": "stream",
     "text": [
      "/tmp/ipykernel_462/3838190839.py:10: SettingWithCopyWarning: \n",
      "A value is trying to be set on a copy of a slice from a DataFrame\n",
      "\n",
      "See the caveats in the documentation: https://pandas.pydata.org/pandas-docs/stable/user_guide/indexing.html#returning-a-view-versus-a-copy\n",
      "  main_df['fold'][idxV] = fold\n",
      "/tmp/ipykernel_462/3838190839.py:10: SettingWithCopyWarning: \n",
      "A value is trying to be set on a copy of a slice from a DataFrame\n",
      "\n",
      "See the caveats in the documentation: https://pandas.pydata.org/pandas-docs/stable/user_guide/indexing.html#returning-a-view-versus-a-copy\n",
      "  main_df['fold'][idxV] = fold\n",
      "/tmp/ipykernel_462/3838190839.py:10: SettingWithCopyWarning: \n",
      "A value is trying to be set on a copy of a slice from a DataFrame\n",
      "\n",
      "See the caveats in the documentation: https://pandas.pydata.org/pandas-docs/stable/user_guide/indexing.html#returning-a-view-versus-a-copy\n",
      "  main_df['fold'][idxV] = fold\n",
      "/tmp/ipykernel_462/3838190839.py:10: SettingWithCopyWarning: \n",
      "A value is trying to be set on a copy of a slice from a DataFrame\n",
      "\n",
      "See the caveats in the documentation: https://pandas.pydata.org/pandas-docs/stable/user_guide/indexing.html#returning-a-view-versus-a-copy\n",
      "  main_df['fold'][idxV] = fold\n",
      "/tmp/ipykernel_462/3838190839.py:10: SettingWithCopyWarning: \n",
      "A value is trying to be set on a copy of a slice from a DataFrame\n",
      "\n",
      "See the caveats in the documentation: https://pandas.pydata.org/pandas-docs/stable/user_guide/indexing.html#returning-a-view-versus-a-copy\n",
      "  main_df['fold'][idxV] = fold\n",
      "/tmp/ipykernel_462/3838190839.py:10: SettingWithCopyWarning: \n",
      "A value is trying to be set on a copy of a slice from a DataFrame\n",
      "\n",
      "See the caveats in the documentation: https://pandas.pydata.org/pandas-docs/stable/user_guide/indexing.html#returning-a-view-versus-a-copy\n",
      "  main_df['fold'][idxV] = fold\n",
      "/tmp/ipykernel_462/3838190839.py:10: SettingWithCopyWarning: \n",
      "A value is trying to be set on a copy of a slice from a DataFrame\n",
      "\n",
      "See the caveats in the documentation: https://pandas.pydata.org/pandas-docs/stable/user_guide/indexing.html#returning-a-view-versus-a-copy\n",
      "  main_df['fold'][idxV] = fold\n",
      "/tmp/ipykernel_462/3838190839.py:10: SettingWithCopyWarning: \n",
      "A value is trying to be set on a copy of a slice from a DataFrame\n",
      "\n",
      "See the caveats in the documentation: https://pandas.pydata.org/pandas-docs/stable/user_guide/indexing.html#returning-a-view-versus-a-copy\n",
      "  main_df['fold'][idxV] = fold\n"
     ]
    }
   ],
   "source": [
    "from sklearn.model_selection import StratifiedKFold\n",
    "\n",
    "SEED = 1\n",
    "FOLDS = 8\n",
    "\n",
    "skf = StratifiedKFold(n_splits=FOLDS, shuffle=True, random_state=SEED)\n",
    "\n",
    "main_df['fold'] = -1\n",
    "for fold,(idxT,idxV) in enumerate( skf.split(main_df,main_df['hasbird'].values)):\n",
    "    main_df['fold'][idxV] = fold"
   ]
  },
  {
   "cell_type": "code",
   "execution_count": 4,
   "id": "2f97f510",
   "metadata": {},
   "outputs": [
    {
     "data": {
      "text/html": [
       "<div>\n",
       "<style scoped>\n",
       "    .dataframe tbody tr th:only-of-type {\n",
       "        vertical-align: middle;\n",
       "    }\n",
       "\n",
       "    .dataframe tbody tr th {\n",
       "        vertical-align: top;\n",
       "    }\n",
       "\n",
       "    .dataframe thead th {\n",
       "        text-align: right;\n",
       "    }\n",
       "</style>\n",
       "<table border=\"1\" class=\"dataframe\">\n",
       "  <thead>\n",
       "    <tr style=\"text-align: right;\">\n",
       "      <th></th>\n",
       "      <th>itemid</th>\n",
       "      <th>datasetid</th>\n",
       "      <th>hasbird</th>\n",
       "      <th>fold</th>\n",
       "    </tr>\n",
       "  </thead>\n",
       "  <tbody>\n",
       "    <tr>\n",
       "      <th>0</th>\n",
       "      <td>64486</td>\n",
       "      <td>ff1010bird</td>\n",
       "      <td>0</td>\n",
       "      <td>5</td>\n",
       "    </tr>\n",
       "    <tr>\n",
       "      <th>1</th>\n",
       "      <td>2525</td>\n",
       "      <td>ff1010bird</td>\n",
       "      <td>0</td>\n",
       "      <td>1</td>\n",
       "    </tr>\n",
       "    <tr>\n",
       "      <th>2</th>\n",
       "      <td>44981</td>\n",
       "      <td>ff1010bird</td>\n",
       "      <td>0</td>\n",
       "      <td>4</td>\n",
       "    </tr>\n",
       "    <tr>\n",
       "      <th>3</th>\n",
       "      <td>101323</td>\n",
       "      <td>ff1010bird</td>\n",
       "      <td>0</td>\n",
       "      <td>4</td>\n",
       "    </tr>\n",
       "    <tr>\n",
       "      <th>4</th>\n",
       "      <td>165746</td>\n",
       "      <td>ff1010bird</td>\n",
       "      <td>0</td>\n",
       "      <td>5</td>\n",
       "    </tr>\n",
       "  </tbody>\n",
       "</table>\n",
       "</div>"
      ],
      "text/plain": [
       "   itemid   datasetid  hasbird  fold\n",
       "0   64486  ff1010bird        0     5\n",
       "1    2525  ff1010bird        0     1\n",
       "2   44981  ff1010bird        0     4\n",
       "3  101323  ff1010bird        0     4\n",
       "4  165746  ff1010bird        0     5"
      ]
     },
     "execution_count": 4,
     "metadata": {},
     "output_type": "execute_result"
    }
   ],
   "source": [
    "main_df.head()"
   ]
  },
  {
   "cell_type": "markdown",
   "id": "179a0e62",
   "metadata": {},
   "source": [
    "## looks cool"
   ]
  },
  {
   "cell_type": "code",
   "execution_count": 4,
   "id": "6115b796",
   "metadata": {},
   "outputs": [
    {
     "name": "stdout",
     "output_type": "stream",
     "text": [
      "0    720\n",
      "1    242\n",
      "Name: hasbird, dtype: int64\n",
      "0    720\n",
      "1    242\n",
      "Name: hasbird, dtype: int64\n",
      "0    720\n",
      "1    241\n",
      "Name: hasbird, dtype: int64\n",
      "0    719\n",
      "1    242\n",
      "Name: hasbird, dtype: int64\n"
     ]
    }
   ],
   "source": [
    "print(main_df[main_df['fold']== 0]['hasbird'].value_counts())\n",
    "print(main_df[main_df['fold']== 1]['hasbird'].value_counts())\n",
    "print(main_df[main_df['fold']== 2]['hasbird'].value_counts())\n",
    "print(main_df[main_df['fold']== 3]['hasbird'].value_counts())"
   ]
  },
  {
   "cell_type": "code",
   "execution_count": 8,
   "id": "7016913b",
   "metadata": {},
   "outputs": [],
   "source": [
    "main_df.to_csv('../data/ff1010bird/ff1010bird_metadata_2018.csv', index = False)"
   ]
  },
  {
   "cell_type": "code",
   "execution_count": 9,
   "id": "3812a938",
   "metadata": {},
   "outputs": [],
   "source": [
    "def get_fold(fold):\n",
    "    val_df = main_df[main_df.fold==fold].reset_index(drop=True)\n",
    "    return val_df"
   ]
  },
  {
   "cell_type": "code",
   "execution_count": 10,
   "id": "01f0e363",
   "metadata": {},
   "outputs": [],
   "source": [
    "def _bytes_feature(value):\n",
    "  \"\"\"Returns a bytes_list from a string / byte.\"\"\"\n",
    "  if isinstance(value, type(tf.constant(0))):\n",
    "    value = value.numpy() # BytesList won't unpack a string from an EagerTensor.\n",
    "  return tf.train.Feature(bytes_list=tf.train.BytesList(value=[value]))\n",
    "\n",
    "def _float_feature(value):\n",
    "  \"\"\"Returns a float_list from a float / double.\"\"\"\n",
    "  return tf.train.Feature(float_list=tf.train.FloatList(value=[value]))\n",
    "\n",
    "def _int64_feature(value):\n",
    "  \"\"\"Returns an int64_list from a bool / enum / int / uint.\"\"\"\n",
    "  return tf.train.Feature(int64_list=tf.train.Int64List(value=[value]))\n",
    "\n",
    "def serialize_example(audio,image_name,target):\n",
    "    feature = {\n",
    "        'image': _bytes_feature(audio),\n",
    "        'image_name': _bytes_feature(image_name),\n",
    "        'target': _int64_feature(target),\n",
    "      }\n",
    "    example_proto = tf.train.Example(features=tf.train.Features(feature=feature))\n",
    "    return example_proto.SerializeToString()"
   ]
  },
  {
   "cell_type": "code",
   "execution_count": 11,
   "id": "30634382",
   "metadata": {},
   "outputs": [],
   "source": [
    "def create_tf_records(fold = 0):\n",
    "    df = get_fold(fold)\n",
    "    tfr_filename = f'../data/tfrec/v1/happywhale-ff-2022-train-{fold}-{df.shape[0]}.tfrec'\n",
    "    with tf.io.TFRecordWriter(tfr_filename) as writer:\n",
    "        for i,row in tqdm(df.iterrows()):\n",
    "            itemid = row.itemid\n",
    "            target = row.hasbird\n",
    "            image_path = f\"../data/{DATATYPE}/audio/wav/{itemid}.wav\"\n",
    "            audio = tf.io.read_file(image_path)\n",
    "            #audio, sample_rate = tf.audio.decode_wav(audio,\n",
    "            #                                 desired_channels=-1,\n",
    "            #                                 desired_samples=-1)\n",
    "            image_name = str.encode(str(itemid))\n",
    "            example = serialize_example(audio,image_name,target)\n",
    "            writer.write(example)"
   ]
  },
  {
   "cell_type": "code",
   "execution_count": 12,
   "id": "286edd7b",
   "metadata": {},
   "outputs": [
    {
     "name": "stderr",
     "output_type": "stream",
     "text": [
      "962it [00:04, 202.23it/s]\n",
      "962it [00:04, 208.04it/s]\n",
      "961it [00:04, 203.47it/s]\n",
      "961it [00:07, 130.98it/s]\n",
      "961it [00:12, 73.96it/s] \n",
      "961it [00:04, 203.57it/s]\n",
      "961it [00:04, 202.79it/s]\n",
      "961it [00:06, 157.98it/s]\n"
     ]
    }
   ],
   "source": [
    "for i in range(8):\n",
    "    create_tf_records(fold = i)"
   ]
  },
  {
   "cell_type": "markdown",
   "id": "b405cf5a",
   "metadata": {},
   "source": [
    "## warblrb10k_public"
   ]
  },
  {
   "cell_type": "code",
   "execution_count": 2,
   "id": "2137135f",
   "metadata": {},
   "outputs": [
    {
     "data": {
      "text/html": [
       "<div>\n",
       "<style scoped>\n",
       "    .dataframe tbody tr th:only-of-type {\n",
       "        vertical-align: middle;\n",
       "    }\n",
       "\n",
       "    .dataframe tbody tr th {\n",
       "        vertical-align: top;\n",
       "    }\n",
       "\n",
       "    .dataframe thead th {\n",
       "        text-align: right;\n",
       "    }\n",
       "</style>\n",
       "<table border=\"1\" class=\"dataframe\">\n",
       "  <thead>\n",
       "    <tr style=\"text-align: right;\">\n",
       "      <th></th>\n",
       "      <th>itemid</th>\n",
       "      <th>datasetid</th>\n",
       "      <th>hasbird</th>\n",
       "      <th>fold</th>\n",
       "    </tr>\n",
       "  </thead>\n",
       "  <tbody>\n",
       "    <tr>\n",
       "      <th>0</th>\n",
       "      <td>759808e5-f824-401e-9058</td>\n",
       "      <td>warblrb10k</td>\n",
       "      <td>1</td>\n",
       "      <td>1</td>\n",
       "    </tr>\n",
       "    <tr>\n",
       "      <th>1</th>\n",
       "      <td>1d94fc4a-1c63-4da0-9cac</td>\n",
       "      <td>warblrb10k</td>\n",
       "      <td>1</td>\n",
       "      <td>0</td>\n",
       "    </tr>\n",
       "    <tr>\n",
       "      <th>2</th>\n",
       "      <td>bb0099ce-3073-4613-8557</td>\n",
       "      <td>warblrb10k</td>\n",
       "      <td>1</td>\n",
       "      <td>7</td>\n",
       "    </tr>\n",
       "    <tr>\n",
       "      <th>3</th>\n",
       "      <td>c4c67e81-9aa8-4af4-8eb7</td>\n",
       "      <td>warblrb10k</td>\n",
       "      <td>1</td>\n",
       "      <td>4</td>\n",
       "    </tr>\n",
       "    <tr>\n",
       "      <th>4</th>\n",
       "      <td>ab322d4b-da69-4b06-a065</td>\n",
       "      <td>warblrb10k</td>\n",
       "      <td>0</td>\n",
       "      <td>4</td>\n",
       "    </tr>\n",
       "  </tbody>\n",
       "</table>\n",
       "</div>"
      ],
      "text/plain": [
       "                    itemid   datasetid  hasbird  fold\n",
       "0  759808e5-f824-401e-9058  warblrb10k        1     1\n",
       "1  1d94fc4a-1c63-4da0-9cac  warblrb10k        1     0\n",
       "2  bb0099ce-3073-4613-8557  warblrb10k        1     7\n",
       "3  c4c67e81-9aa8-4af4-8eb7  warblrb10k        1     4\n",
       "4  ab322d4b-da69-4b06-a065  warblrb10k        0     4"
      ]
     },
     "execution_count": 2,
     "metadata": {},
     "output_type": "execute_result"
    }
   ],
   "source": [
    "DATATYPE = 'warblrb10k_public'\n",
    "main_df = pd.read_csv('../data/warblrb10k_public/warblrb10k_public_metadata_2018.csv')\n",
    "main_df.head()"
   ]
  },
  {
   "cell_type": "code",
   "execution_count": 3,
   "id": "a1bf58c3",
   "metadata": {},
   "outputs": [
    {
     "name": "stderr",
     "output_type": "stream",
     "text": [
      "/tmp/ipykernel_700/3838190839.py:10: SettingWithCopyWarning: \n",
      "A value is trying to be set on a copy of a slice from a DataFrame\n",
      "\n",
      "See the caveats in the documentation: https://pandas.pydata.org/pandas-docs/stable/user_guide/indexing.html#returning-a-view-versus-a-copy\n",
      "  main_df['fold'][idxV] = fold\n",
      "/tmp/ipykernel_700/3838190839.py:10: SettingWithCopyWarning: \n",
      "A value is trying to be set on a copy of a slice from a DataFrame\n",
      "\n",
      "See the caveats in the documentation: https://pandas.pydata.org/pandas-docs/stable/user_guide/indexing.html#returning-a-view-versus-a-copy\n",
      "  main_df['fold'][idxV] = fold\n",
      "/tmp/ipykernel_700/3838190839.py:10: SettingWithCopyWarning: \n",
      "A value is trying to be set on a copy of a slice from a DataFrame\n",
      "\n",
      "See the caveats in the documentation: https://pandas.pydata.org/pandas-docs/stable/user_guide/indexing.html#returning-a-view-versus-a-copy\n",
      "  main_df['fold'][idxV] = fold\n",
      "/tmp/ipykernel_700/3838190839.py:10: SettingWithCopyWarning: \n",
      "A value is trying to be set on a copy of a slice from a DataFrame\n",
      "\n",
      "See the caveats in the documentation: https://pandas.pydata.org/pandas-docs/stable/user_guide/indexing.html#returning-a-view-versus-a-copy\n",
      "  main_df['fold'][idxV] = fold\n",
      "/tmp/ipykernel_700/3838190839.py:10: SettingWithCopyWarning: \n",
      "A value is trying to be set on a copy of a slice from a DataFrame\n",
      "\n",
      "See the caveats in the documentation: https://pandas.pydata.org/pandas-docs/stable/user_guide/indexing.html#returning-a-view-versus-a-copy\n",
      "  main_df['fold'][idxV] = fold\n",
      "/tmp/ipykernel_700/3838190839.py:10: SettingWithCopyWarning: \n",
      "A value is trying to be set on a copy of a slice from a DataFrame\n",
      "\n",
      "See the caveats in the documentation: https://pandas.pydata.org/pandas-docs/stable/user_guide/indexing.html#returning-a-view-versus-a-copy\n",
      "  main_df['fold'][idxV] = fold\n",
      "/tmp/ipykernel_700/3838190839.py:10: SettingWithCopyWarning: \n",
      "A value is trying to be set on a copy of a slice from a DataFrame\n",
      "\n",
      "See the caveats in the documentation: https://pandas.pydata.org/pandas-docs/stable/user_guide/indexing.html#returning-a-view-versus-a-copy\n",
      "  main_df['fold'][idxV] = fold\n",
      "/tmp/ipykernel_700/3838190839.py:10: SettingWithCopyWarning: \n",
      "A value is trying to be set on a copy of a slice from a DataFrame\n",
      "\n",
      "See the caveats in the documentation: https://pandas.pydata.org/pandas-docs/stable/user_guide/indexing.html#returning-a-view-versus-a-copy\n",
      "  main_df['fold'][idxV] = fold\n"
     ]
    }
   ],
   "source": [
    "from sklearn.model_selection import StratifiedKFold\n",
    "\n",
    "SEED = 1\n",
    "FOLDS = 8\n",
    "\n",
    "skf = StratifiedKFold(n_splits=FOLDS, shuffle=True, random_state=SEED)\n",
    "\n",
    "main_df['fold'] = -1\n",
    "for fold,(idxT,idxV) in enumerate( skf.split(main_df,main_df['hasbird'].values)):\n",
    "    main_df['fold'][idxV] = fold"
   ]
  },
  {
   "cell_type": "code",
   "execution_count": 4,
   "id": "047a7ca8",
   "metadata": {},
   "outputs": [],
   "source": [
    "main_df.to_csv('../data/ff1010bird/warblrb10k_public_metadata_2018.csv', index = False)"
   ]
  },
  {
   "cell_type": "code",
   "execution_count": 3,
   "id": "54bcaa72",
   "metadata": {},
   "outputs": [],
   "source": [
    "def get_fold(fold):\n",
    "    val_df = main_df[main_df.fold==fold].reset_index(drop=True)\n",
    "    return val_df\n",
    "\n",
    "def _bytes_feature(value):\n",
    "  \"\"\"Returns a bytes_list from a string / byte.\"\"\"\n",
    "  if isinstance(value, type(tf.constant(0))):\n",
    "    value = value.numpy() # BytesList won't unpack a string from an EagerTensor.\n",
    "  return tf.train.Feature(bytes_list=tf.train.BytesList(value=[value]))\n",
    "\n",
    "def _float_feature(value):\n",
    "  \"\"\"Returns a float_list from a float / double.\"\"\"\n",
    "  return tf.train.Feature(float_list=tf.train.FloatList(value=[value]))\n",
    "\n",
    "def _int64_feature(value):\n",
    "  \"\"\"Returns an int64_list from a bool / enum / int / uint.\"\"\"\n",
    "  return tf.train.Feature(int64_list=tf.train.Int64List(value=[value]))\n",
    "\n",
    "def serialize_example(audio,image_name,target):\n",
    "    feature = {\n",
    "        'image': _bytes_feature(audio),\n",
    "        'image_name': _bytes_feature(image_name),\n",
    "        'target': _int64_feature(target),\n",
    "      }\n",
    "    example_proto = tf.train.Example(features=tf.train.Features(feature=feature))\n",
    "    return example_proto.SerializeToString()\n",
    "\n",
    "def create_tf_records(fold = 0):\n",
    "    df = get_fold(fold)\n",
    "    tfr_filename = f'../data/tfrec/v1/happywhale-war-2022-train-{fold}-{df.shape[0]}.tfrec'\n",
    "    with tf.io.TFRecordWriter(tfr_filename) as writer:\n",
    "        for i,row in tqdm(df.iterrows()):\n",
    "            itemid = row.itemid\n",
    "            target = row.hasbird\n",
    "            image_path = f\"../data/{DATATYPE}/audio/wav/{itemid}.wav\"\n",
    "            audio = tf.io.read_file(image_path)\n",
    "            #audio, sample_rate = tf.audio.decode_wav(audio,\n",
    "            #                                 desired_channels=-1,\n",
    "            #                                 desired_samples=-1)\n",
    "            image_name = str.encode(str(itemid))\n",
    "            example = serialize_example(audio,image_name,target)\n",
    "            writer.write(example)"
   ]
  },
  {
   "cell_type": "code",
   "execution_count": null,
   "id": "62a7988c",
   "metadata": {},
   "outputs": [],
   "source": [
    "create_tf_records(fold = 0)"
   ]
  },
  {
   "cell_type": "code",
   "execution_count": 5,
   "id": "f65391b1",
   "metadata": {},
   "outputs": [
    {
     "name": "stderr",
     "output_type": "stream",
     "text": [
      "1000it [00:00, 1294.05it/s]\n",
      "1000it [00:00, 1295.66it/s]\n",
      "1000it [00:00, 1301.06it/s]\n",
      "1000it [00:00, 1306.58it/s]\n",
      "1000it [00:00, 1315.94it/s]\n",
      "1000it [00:01, 967.06it/s]\n",
      "1000it [00:02, 419.93it/s]\n",
      "1000it [00:02, 429.19it/s]\n"
     ]
    }
   ],
   "source": [
    "for i in range(8):\n",
    "    create_tf_records(fold = i)"
   ]
  },
  {
   "cell_type": "code",
   "execution_count": null,
   "id": "c2b7f447",
   "metadata": {},
   "outputs": [],
   "source": []
  },
  {
   "cell_type": "markdown",
   "id": "e31356a1",
   "metadata": {},
   "source": [
    "## verify TF"
   ]
  },
  {
   "cell_type": "code",
   "execution_count": 20,
   "id": "67764e73",
   "metadata": {},
   "outputs": [],
   "source": [
    "def decode_audio(audio):\n",
    "    audio = tf.audio.decode_wav(audio,)\n",
    "    return audio.audio\n",
    "\n",
    "def read_labeled_tfrecord(example):\n",
    "    LABELED_TFREC_FORMAT = {\n",
    "        \"image\": tf.io.FixedLenFeature([], tf.string), # tf.string means bytestring\n",
    "        \"image_name\": tf.io.FixedLenFeature([], tf.string),  # shape [] means single element\n",
    "        'target': tf.io.FixedLenFeature([], tf.int64),\n",
    "    }\n",
    "    example = tf.io.parse_single_example(example, LABELED_TFREC_FORMAT)\n",
    "    image = decode_audio(example['image'])\n",
    "    label = example['target']\n",
    "    return image, label # returns a dataset of (image, label) pairs\n",
    "\n",
    "def load_dataset(filenames, labeled=True, ordered=False):\n",
    "    # Read from TFRecords. For optimal performance, reading from multiple files at once and\n",
    "    # disregarding data order. Order does not matter since we will be shuffling the data anyway.\n",
    "\n",
    "    ignore_order = tf.data.Options()\n",
    "    if not ordered:\n",
    "        ignore_order.experimental_deterministic = False # disable order, increase speed\n",
    "\n",
    "    dataset = tf.data.TFRecordDataset(filenames, num_parallel_reads=AUTO) # automatically interleaves reads from multiple files\n",
    "    dataset = dataset.with_options(ignore_order) # uses data as soon as it streams in, rather than in its original order\n",
    "    dataset = dataset.map(read_labeled_tfrecord)\n",
    "    # returns a dataset of (image, label) pairs if labeled=True or (image, id) pairs if labeled=False\n",
    "    return dataset\n",
    "\n",
    "def get_training_dataset():\n",
    "    dataset = load_dataset(TRAINING_FILENAMES, labeled=True)\n",
    "    dataset = dataset.repeat() # the training dataset must repeat for several epochs\n",
    "    dataset = dataset.shuffle(2048)\n",
    "    dataset = dataset.batch(BATCH_SIZE)\n",
    "    dataset = dataset.prefetch(AUTO) # prefetch next batch while training (autotune prefetch buffer size)\n",
    "    return dataset\n",
    "\n",
    "def count_data_items(filenames):\n",
    "    # the number of data items is written in the name of the .tfrec files, i.e. flowers00-230.tfrec = 230 data items\n",
    "    n = [int(re.compile(r\"-([0-9]*)\\.\").search(filename).group(1)) for filename in filenames]\n",
    "    return np.sum(n)"
   ]
  },
  {
   "cell_type": "code",
   "execution_count": 21,
   "id": "7ebea3b1",
   "metadata": {},
   "outputs": [
    {
     "name": "stdout",
     "output_type": "stream",
     "text": [
      "1\n",
      "962\n"
     ]
    }
   ],
   "source": [
    "\n",
    "AUTO = tf.data.experimental.AUTOTUNE\n",
    "TRAINING_FILENAMES = tf.io.gfile.glob(f'../data/tfrec/v1/happywhale-2022-train*.tfrec')\n",
    "print(len(TRAINING_FILENAMES))\n",
    "dataset = load_dataset(TRAINING_FILENAMES, labeled=True)\n",
    "dataset = dataset.repeat()\n",
    "dataset = dataset.shuffle(2048)\n",
    "dataset = dataset.batch(2)\n",
    "dataset = dataset.prefetch(AUTO) #This dataset can directly be passed to keras.fit method\n",
    "print(count_data_items(TRAINING_FILENAMES))\n",
    "\n",
    "# Displaying single batch of TFRecord\n",
    "train_batch = iter(dataset)\n",
    "#display_batch_of_images(next(train_batch))"
   ]
  },
  {
   "cell_type": "code",
   "execution_count": 22,
   "id": "42a53fc4",
   "metadata": {},
   "outputs": [],
   "source": [
    "v = next(train_batch)"
   ]
  },
  {
   "cell_type": "code",
   "execution_count": 23,
   "id": "421ca4ce",
   "metadata": {},
   "outputs": [
    {
     "data": {
      "text/plain": [
       "<tf.Tensor: shape=(2, 441000, 1), dtype=float32, numpy=\n",
       "array([[[-0.03469849],\n",
       "        [-0.03753662],\n",
       "        [-0.05050659],\n",
       "        ...,\n",
       "        [-0.03512573],\n",
       "        [-0.04098511],\n",
       "        [-0.04629517]],\n",
       "\n",
       "       [[ 0.01980591],\n",
       "        [ 0.02163696],\n",
       "        [ 0.01907349],\n",
       "        ...,\n",
       "        [ 0.03814697],\n",
       "        [ 0.03686523],\n",
       "        [ 0.03713989]]], dtype=float32)>"
      ]
     },
     "execution_count": 23,
     "metadata": {},
     "output_type": "execute_result"
    }
   ],
   "source": [
    "v[0]"
   ]
  },
  {
   "cell_type": "code",
   "execution_count": 24,
   "id": "75893033",
   "metadata": {},
   "outputs": [
    {
     "data": {
      "text/plain": [
       "(<tf.Tensor: shape=(2, 441000, 1), dtype=float32, numpy=\n",
       " array([[[-0.03469849],\n",
       "         [-0.03753662],\n",
       "         [-0.05050659],\n",
       "         ...,\n",
       "         [-0.03512573],\n",
       "         [-0.04098511],\n",
       "         [-0.04629517]],\n",
       " \n",
       "        [[ 0.01980591],\n",
       "         [ 0.02163696],\n",
       "         [ 0.01907349],\n",
       "         ...,\n",
       "         [ 0.03814697],\n",
       "         [ 0.03686523],\n",
       "         [ 0.03713989]]], dtype=float32)>,\n",
       " <tf.Tensor: shape=(2,), dtype=int64, numpy=array([0, 0])>)"
      ]
     },
     "execution_count": 24,
     "metadata": {},
     "output_type": "execute_result"
    }
   ],
   "source": [
    "v"
   ]
  }
 ],
 "metadata": {
  "kernelspec": {
   "display_name": "Python 3 (ipykernel)",
   "language": "python",
   "name": "python3"
  },
  "language_info": {
   "codemirror_mode": {
    "name": "ipython",
    "version": 3
   },
   "file_extension": ".py",
   "mimetype": "text/x-python",
   "name": "python",
   "nbconvert_exporter": "python",
   "pygments_lexer": "ipython3",
   "version": "3.8.10"
  }
 },
 "nbformat": 4,
 "nbformat_minor": 5
}
