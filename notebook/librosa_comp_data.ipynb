{
 "cells": [
  {
   "cell_type": "markdown",
   "id": "3acd1a2d",
   "metadata": {},
   "source": [
    "## About\n",
    "\n",
    "here we will analyze the competition dataset and create melspec for both 5sec and 10sec"
   ]
  }
 ],
 "metadata": {
  "kernelspec": {
   "display_name": "Python 3 (ipykernel)",
   "language": "python",
   "name": "python3"
  },
  "language_info": {
   "codemirror_mode": {
    "name": "ipython",
    "version": 3
   },
   "file_extension": ".py",
   "mimetype": "text/x-python",
   "name": "python",
   "nbconvert_exporter": "python",
   "pygments_lexer": "ipython3",
   "version": "3.8.10"
  }
 },
 "nbformat": 4,
 "nbformat_minor": 5
}
