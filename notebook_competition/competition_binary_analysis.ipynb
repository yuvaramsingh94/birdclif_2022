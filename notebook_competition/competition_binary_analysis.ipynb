{
 "cells": [
  {
   "cell_type": "markdown",
   "id": "a2960d89",
   "metadata": {},
   "source": [
    "## About\n",
    "\n",
    "analysing the 10sec mel spec of competition data with its binary predictions. this will help in understanding how the bird presence are in the training data."
   ]
  },
  {
   "cell_type": "code",
   "execution_count": 1,
   "id": "a2582bce",
   "metadata": {},
   "outputs": [],
   "source": [
    "import pandas as pd\n",
    "import numpy as np"
   ]
  },
  {
   "cell_type": "code",
   "execution_count": 2,
   "id": "bf07a494",
   "metadata": {},
   "outputs": [],
   "source": [
    "main_df = pd.read_csv('../prediction/binary_v3_SED/train_competition_v1_binary.csv')"
   ]
  },
  {
   "cell_type": "code",
   "execution_count": 3,
   "id": "a4f3c65d",
   "metadata": {},
   "outputs": [
    {
     "data": {
      "text/html": [
       "<div>\n",
       "<style scoped>\n",
       "    .dataframe tbody tr th:only-of-type {\n",
       "        vertical-align: middle;\n",
       "    }\n",
       "\n",
       "    .dataframe tbody tr th {\n",
       "        vertical-align: top;\n",
       "    }\n",
       "\n",
       "    .dataframe thead th {\n",
       "        text-align: right;\n",
       "    }\n",
       "</style>\n",
       "<table border=\"1\" class=\"dataframe\">\n",
       "  <thead>\n",
       "    <tr style=\"text-align: right;\">\n",
       "      <th></th>\n",
       "      <th>itemid</th>\n",
       "      <th>hasbird</th>\n",
       "      <th>prediction</th>\n",
       "    </tr>\n",
       "  </thead>\n",
       "  <tbody>\n",
       "    <tr>\n",
       "      <th>0</th>\n",
       "      <td>../data/librosa/competition/v1/10_sec/moudov/X...</td>\n",
       "      <td>0</td>\n",
       "      <td>0.941831</td>\n",
       "    </tr>\n",
       "    <tr>\n",
       "      <th>1</th>\n",
       "      <td>../data/librosa/competition/v1/10_sec/moudov/X...</td>\n",
       "      <td>0</td>\n",
       "      <td>0.924060</td>\n",
       "    </tr>\n",
       "    <tr>\n",
       "      <th>2</th>\n",
       "      <td>../data/librosa/competition/v1/10_sec/moudov/X...</td>\n",
       "      <td>0</td>\n",
       "      <td>0.927552</td>\n",
       "    </tr>\n",
       "    <tr>\n",
       "      <th>3</th>\n",
       "      <td>../data/librosa/competition/v1/10_sec/moudov/X...</td>\n",
       "      <td>0</td>\n",
       "      <td>0.865301</td>\n",
       "    </tr>\n",
       "    <tr>\n",
       "      <th>4</th>\n",
       "      <td>../data/librosa/competition/v1/10_sec/moudov/X...</td>\n",
       "      <td>0</td>\n",
       "      <td>0.942084</td>\n",
       "    </tr>\n",
       "  </tbody>\n",
       "</table>\n",
       "</div>"
      ],
      "text/plain": [
       "                                              itemid  hasbird  prediction\n",
       "0  ../data/librosa/competition/v1/10_sec/moudov/X...        0    0.941831\n",
       "1  ../data/librosa/competition/v1/10_sec/moudov/X...        0    0.924060\n",
       "2  ../data/librosa/competition/v1/10_sec/moudov/X...        0    0.927552\n",
       "3  ../data/librosa/competition/v1/10_sec/moudov/X...        0    0.865301\n",
       "4  ../data/librosa/competition/v1/10_sec/moudov/X...        0    0.942084"
      ]
     },
     "execution_count": 3,
     "metadata": {},
     "output_type": "execute_result"
    }
   ],
   "source": [
    "main_df.head()"
   ]
  },
  {
   "cell_type": "code",
   "execution_count": 4,
   "id": "a79bc3d4",
   "metadata": {},
   "outputs": [
    {
     "data": {
      "text/plain": [
       "0    71511\n",
       "Name: hasbird, dtype: int64"
      ]
     },
     "execution_count": 4,
     "metadata": {},
     "output_type": "execute_result"
    }
   ],
   "source": [
    "## here the hasbird is dummy\n",
    "\n",
    "main_df['hasbird'].value_counts()"
   ]
  },
  {
   "cell_type": "code",
   "execution_count": 8,
   "id": "8cb538c2",
   "metadata": {},
   "outputs": [
    {
     "data": {
      "text/plain": [
       "<AxesSubplot:ylabel='Frequency'>"
      ]
     },
     "execution_count": 8,
     "metadata": {},
     "output_type": "execute_result"
    },
    {
     "data": {
      "image/png": "[encoded data removed]",
      "text/plain": [
       "<Figure size 432x288 with 1 Axes>"
      ]
     },
     "metadata": {
      "needs_background": "light"
     },
     "output_type": "display_data"
    }
   ],
   "source": [
    "main_df['prediction'].plot.hist(bins = 50)"
   ]
  },
  {
   "cell_type": "markdown",
   "id": "c9141b27",
   "metadata": {},
   "source": [
    "## lets try to examine the samples with less bird prediction . this is to check if the prediction is good\n",
    "\n",
    "\n",
    "visualized it in excel as it was easy\n",
    "\n",
    "- the visualization looks satisfied for me"
   ]
  },
  {
   "cell_type": "code",
   "execution_count": 9,
   "id": "afd25dd3",
   "metadata": {},
   "outputs": [
    {
     "data": {
      "text/html": [
       "<div>\n",
       "<style scoped>\n",
       "    .dataframe tbody tr th:only-of-type {\n",
       "        vertical-align: middle;\n",
       "    }\n",
       "\n",
       "    .dataframe tbody tr th {\n",
       "        vertical-align: top;\n",
       "    }\n",
       "\n",
       "    .dataframe thead th {\n",
       "        text-align: right;\n",
       "    }\n",
       "</style>\n",
       "<table border=\"1\" class=\"dataframe\">\n",
       "  <thead>\n",
       "    <tr style=\"text-align: right;\">\n",
       "      <th></th>\n",
       "      <th>itemid</th>\n",
       "      <th>hasbird</th>\n",
       "      <th>prediction</th>\n",
       "    </tr>\n",
       "  </thead>\n",
       "  <tbody>\n",
       "    <tr>\n",
       "      <th>31183</th>\n",
       "      <td>../data/librosa/competition/v1/10_sec/caster1/...</td>\n",
       "      <td>0</td>\n",
       "      <td>0.081244</td>\n",
       "    </tr>\n",
       "    <tr>\n",
       "      <th>70377</th>\n",
       "      <td>../data/librosa/competition/v1/10_sec/commyn/X...</td>\n",
       "      <td>0</td>\n",
       "      <td>0.133501</td>\n",
       "    </tr>\n",
       "    <tr>\n",
       "      <th>69310</th>\n",
       "      <td>../data/librosa/competition/v1/10_sec/commyn/X...</td>\n",
       "      <td>0</td>\n",
       "      <td>0.159228</td>\n",
       "    </tr>\n",
       "    <tr>\n",
       "      <th>69556</th>\n",
       "      <td>../data/librosa/competition/v1/10_sec/zebdov/X...</td>\n",
       "      <td>0</td>\n",
       "      <td>0.163189</td>\n",
       "    </tr>\n",
       "    <tr>\n",
       "      <th>31173</th>\n",
       "      <td>../data/librosa/competition/v1/10_sec/caster1/...</td>\n",
       "      <td>0</td>\n",
       "      <td>0.164752</td>\n",
       "    </tr>\n",
       "  </tbody>\n",
       "</table>\n",
       "</div>"
      ],
      "text/plain": [
       "                                                  itemid  hasbird  prediction\n",
       "31183  ../data/librosa/competition/v1/10_sec/caster1/...        0    0.081244\n",
       "70377  ../data/librosa/competition/v1/10_sec/commyn/X...        0    0.133501\n",
       "69310  ../data/librosa/competition/v1/10_sec/commyn/X...        0    0.159228\n",
       "69556  ../data/librosa/competition/v1/10_sec/zebdov/X...        0    0.163189\n",
       "31173  ../data/librosa/competition/v1/10_sec/caster1/...        0    0.164752"
      ]
     },
     "execution_count": 9,
     "metadata": {},
     "output_type": "execute_result"
    }
   ],
   "source": [
    "main_df = main_df.sort_values(by=['prediction'])\n",
    "main_df.head()"
   ]
  },
  {
   "cell_type": "code",
   "execution_count": null,
   "id": "e76c7aad",
   "metadata": {},
   "outputs": [],
   "source": []
  }
 ],
 "metadata": {
  "kernelspec": {
   "display_name": "Python 3 (ipykernel)",
   "language": "python",
   "name": "python3"
  },
  "language_info": {
   "codemirror_mode": {
    "name": "ipython",
    "version": 3
   },
   "file_extension": ".py",
   "mimetype": "text/x-python",
   "name": "python",
   "nbconvert_exporter": "python",
   "pygments_lexer": "ipython3",
   "version": "3.8.10"
  }
 },
 "nbformat": 4,
 "nbformat_minor": 5
}
